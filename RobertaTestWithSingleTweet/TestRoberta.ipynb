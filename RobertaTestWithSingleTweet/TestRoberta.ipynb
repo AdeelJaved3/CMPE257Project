{
 "cells": [
  {
   "cell_type": "code",
   "execution_count": 1,
   "metadata": {},
   "outputs": [],
   "source": [
    "import torch\n",
    "from transformers import AutoTokenizer, pipeline"
   ]
  },
  {
   "cell_type": "code",
   "execution_count": 6,
   "metadata": {},
   "outputs": [],
   "source": [
    "saved_model = torch.load(\"C:\\\\Users\\\\anich\\\\OneDrive\\\\Desktop\\\\RobertaModel.pt\")"
   ]
  },
  {
   "cell_type": "code",
   "execution_count": 7,
   "metadata": {},
   "outputs": [],
   "source": [
    "model_identifier = \"roberta-base\"\n",
    "tokenizer_identifier = \"roberta-base\"\n",
    "tokenizer = AutoTokenizer.from_pretrained(tokenizer_identifier)\n"
   ]
  },
  {
   "cell_type": "code",
   "execution_count": 8,
   "metadata": {},
   "outputs": [],
   "source": [
    "classifier = pipeline(\"text-classification\", model=saved_model, tokenizer=tokenizer)"
   ]
  },
  {
   "cell_type": "code",
   "execution_count": 32,
   "metadata": {},
   "outputs": [
    {
     "name": "stdout",
     "output_type": "stream",
     "text": [
      "Age\n"
     ]
    }
   ],
   "source": [
    "OP_label = {'LABEL_0': 'Non Cyberbullying','LABEL_1': 'Age','LABEL_2': 'Ethnicity','LABEL_3': 'Religion','LABEL_4': 'Gender','LABEL_5': 'Other Cyberbullying'}\n",
    "x = \"Ever wonder what happened to that bully in school?\"\n",
    "res = classifier(x)\n",
    "#print(res)\n",
    "print(OP_label[res[0][\"label\"]])"
   ]
  },
  {
   "cell_type": "code",
   "execution_count": null,
   "metadata": {},
   "outputs": [],
   "source": []
  }
 ],
 "metadata": {
  "kernelspec": {
   "display_name": "Python 3",
   "language": "python",
   "name": "python3"
  },
  "language_info": {
   "codemirror_mode": {
    "name": "ipython",
    "version": 3
   },
   "file_extension": ".py",
   "mimetype": "text/x-python",
   "name": "python",
   "nbconvert_exporter": "python",
   "pygments_lexer": "ipython3",
   "version": "3.11.5"
  }
 },
 "nbformat": 4,
 "nbformat_minor": 2
}
