{
 "cells": [
  {
   "cell_type": "code",
   "execution_count": 1,
   "metadata": {},
   "outputs": [],
   "source": [
    "import tensorflow as tf\n",
    "import numpy as np\n",
    "import sklearn\n",
    "from sklearn import metrics\n",
    "import json\n",
    "import matplotlib.pyplot as plt\n",
    "import random\n",
    "import seaborn as sn\n",
    "import pandas as pd"
   ]
  },
  {
   "cell_type": "code",
   "execution_count": 2,
   "metadata": {},
   "outputs": [],
   "source": [
    "# load base package for the tasks from pytorch\n",
    "import torch\n",
    "from torch.utils.data import TensorDataset, DataLoader, RandomSampler, SequentialSampler"
   ]
  },
  {
   "cell_type": "code",
   "execution_count": 3,
   "metadata": {},
   "outputs": [],
   "source": [
    "df = pd.read_csv('/Users/anusha/Code/Python/Project_Local/FinalWIthStopWords.csv')"
   ]
  },
  {
   "cell_type": "code",
   "execution_count": 4,
   "metadata": {},
   "outputs": [
    {
     "data": {
      "text/plain": [
       "cyberbullying_type\n",
       "3    7998\n",
       "1    7992\n",
       "4    7973\n",
       "2    7961\n",
       "0    7945\n",
       "5    7823\n",
       "Name: count, dtype: int64"
      ]
     },
     "execution_count": 4,
     "metadata": {},
     "output_type": "execute_result"
    }
   ],
   "source": [
    "df.cyberbullying_type.value_counts()"
   ]
  },
  {
   "cell_type": "code",
   "execution_count": 5,
   "metadata": {},
   "outputs": [
    {
     "data": {
      "text/html": [
       "<div>\n",
       "<style scoped>\n",
       "    .dataframe tbody tr th:only-of-type {\n",
       "        vertical-align: middle;\n",
       "    }\n",
       "\n",
       "    .dataframe tbody tr th {\n",
       "        vertical-align: top;\n",
       "    }\n",
       "\n",
       "    .dataframe thead th {\n",
       "        text-align: right;\n",
       "    }\n",
       "</style>\n",
       "<table border=\"1\" class=\"dataframe\">\n",
       "  <thead>\n",
       "    <tr style=\"text-align: right;\">\n",
       "      <th></th>\n",
       "      <th>count</th>\n",
       "      <th>mean</th>\n",
       "      <th>std</th>\n",
       "      <th>min</th>\n",
       "      <th>25%</th>\n",
       "      <th>50%</th>\n",
       "      <th>75%</th>\n",
       "      <th>max</th>\n",
       "    </tr>\n",
       "  </thead>\n",
       "  <tbody>\n",
       "    <tr>\n",
       "      <th>cyberbullying_type</th>\n",
       "      <td>47692.0</td>\n",
       "      <td>2.493395</td>\n",
       "      <td>1.703893</td>\n",
       "      <td>0.0</td>\n",
       "      <td>1.0</td>\n",
       "      <td>2.0</td>\n",
       "      <td>4.0</td>\n",
       "      <td>5.0</td>\n",
       "    </tr>\n",
       "  </tbody>\n",
       "</table>\n",
       "</div>"
      ],
      "text/plain": [
       "                      count      mean       std  min  25%  50%  75%  max\n",
       "cyberbullying_type  47692.0  2.493395  1.703893  0.0  1.0  2.0  4.0  5.0"
      ]
     },
     "execution_count": 5,
     "metadata": {},
     "output_type": "execute_result"
    }
   ],
   "source": [
    "df.describe().T"
   ]
  },
  {
   "cell_type": "code",
   "execution_count": 6,
   "metadata": {},
   "outputs": [
    {
     "data": {
      "text/html": [
       "<div>\n",
       "<style scoped>\n",
       "    .dataframe tbody tr th:only-of-type {\n",
       "        vertical-align: middle;\n",
       "    }\n",
       "\n",
       "    .dataframe tbody tr th {\n",
       "        vertical-align: top;\n",
       "    }\n",
       "\n",
       "    .dataframe thead th {\n",
       "        text-align: right;\n",
       "    }\n",
       "</style>\n",
       "<table border=\"1\" class=\"dataframe\">\n",
       "  <thead>\n",
       "    <tr style=\"text-align: right;\">\n",
       "      <th></th>\n",
       "      <th>count</th>\n",
       "      <th>mean</th>\n",
       "      <th>std</th>\n",
       "      <th>min</th>\n",
       "      <th>25%</th>\n",
       "      <th>50%</th>\n",
       "      <th>75%</th>\n",
       "      <th>max</th>\n",
       "    </tr>\n",
       "  </thead>\n",
       "  <tbody>\n",
       "    <tr>\n",
       "      <th>cyberbullying_type</th>\n",
       "      <td>47473.0</td>\n",
       "      <td>2.490321</td>\n",
       "      <td>1.69975</td>\n",
       "      <td>0.0</td>\n",
       "      <td>1.0</td>\n",
       "      <td>2.0</td>\n",
       "      <td>4.0</td>\n",
       "      <td>5.0</td>\n",
       "    </tr>\n",
       "  </tbody>\n",
       "</table>\n",
       "</div>"
      ],
      "text/plain": [
       "                      count      mean      std  min  25%  50%  75%  max\n",
       "cyberbullying_type  47473.0  2.490321  1.69975  0.0  1.0  2.0  4.0  5.0"
      ]
     },
     "execution_count": 6,
     "metadata": {},
     "output_type": "execute_result"
    }
   ],
   "source": [
    "df = df.dropna(axis=0)\n",
    "df.describe().T"
   ]
  },
  {
   "cell_type": "code",
   "execution_count": 7,
   "metadata": {},
   "outputs": [],
   "source": [
    "X = df['tweet_text']\n",
    "y = df['cyberbullying_type']"
   ]
  },
  {
   "cell_type": "code",
   "execution_count": 8,
   "metadata": {},
   "outputs": [],
   "source": [
    "from sklearn.model_selection import train_test_split\n",
    "X_train, X_test, y_train, y_test = train_test_split(X, y, test_size=0.1, random_state=40, stratify=y)\n"
   ]
  },
  {
   "cell_type": "code",
   "execution_count": 9,
   "metadata": {},
   "outputs": [],
   "source": [
    "sentences = X_train.values\n",
    "labels = y_train.values\n",
    "     "
   ]
  },
  {
   "cell_type": "code",
   "execution_count": 10,
   "metadata": {},
   "outputs": [
    {
     "data": {
      "text/plain": [
       "cyberbullying_type\n",
       "3    7198\n",
       "1    7193\n",
       "2    7164\n",
       "4    7162\n",
       "0    7081\n",
       "5    6927\n",
       "Name: count, dtype: int64"
      ]
     },
     "execution_count": 10,
     "metadata": {},
     "output_type": "execute_result"
    }
   ],
   "source": [
    "y_train.value_counts()\n"
   ]
  },
  {
   "cell_type": "code",
   "execution_count": 11,
   "metadata": {},
   "outputs": [
    {
     "name": "stderr",
     "output_type": "stream",
     "text": [
      "/opt/homebrew/lib/python3.11/site-packages/tqdm/auto.py:21: TqdmWarning: IProgress not found. Please update jupyter and ipywidgets. See https://ipywidgets.readthedocs.io/en/stable/user_install.html\n",
      "  from .autonotebook import tqdm as notebook_tqdm\n"
     ]
    }
   ],
   "source": [
    "from transformers import RobertaTokenizer"
   ]
  },
  {
   "cell_type": "code",
   "execution_count": 12,
   "metadata": {},
   "outputs": [],
   "source": [
    "from transformers import AutoTokenizer\n",
    "tokenizer = AutoTokenizer.from_pretrained('roberta-base')"
   ]
  },
  {
   "cell_type": "code",
   "execution_count": 13,
   "metadata": {},
   "outputs": [
    {
     "name": "stdout",
     "output_type": "stream",
     "text": [
      " Original:  misss r came out as a lee's bIAN because the boys at nasa were picking on me after that girl gave me that valentines note she was telling me of her time being bullied at high sxhool\n",
      "Tokenized:  ['miss', 's', 'Ġr', 'Ġcame', 'Ġout', 'Ġas', 'Ġa', 'Ġle', 'e', \"'s\", 'Ġb', 'IAN', 'Ġbecause', 'Ġthe', 'Ġboys', 'Ġat', 'Ġn', 'asa', 'Ġwere', 'Ġpicking', 'Ġon', 'Ġme', 'Ġafter', 'Ġthat', 'Ġgirl', 'Ġgave', 'Ġme', 'Ġthat', 'Ġval', 'ent', 'ines', 'Ġnote', 'Ġshe', 'Ġwas', 'Ġtelling', 'Ġme', 'Ġof', 'Ġher', 'Ġtime', 'Ġbeing', 'Ġbullied', 'Ġat', 'Ġhigh', 'Ġs', 'x', 'h', 'ool']\n",
      "Token IDs:  [17745, 29, 910, 376, 66, 25, 10, 2084, 242, 18, 741, 10296, 142, 5, 2786, 23, 295, 8810, 58, 6201, 15, 162, 71, 14, 1816, 851, 162, 14, 7398, 1342, 3141, 1591, 79, 21, 2758, 162, 9, 69, 86, 145, 21745, 23, 239, 579, 1178, 298, 8110]\n"
     ]
    }
   ],
   "source": [
    "# Print the original sentence.\n",
    "print(' Original: ', sentences[0])\n",
    "\n",
    "# Print the sentence split into tokens.\n",
    "print('Tokenized: ', tokenizer.tokenize(sentences[0]))\n",
    "\n",
    "# Print the sentence mapped to token ids.\n",
    "print('Token IDs: ', tokenizer.convert_tokens_to_ids(tokenizer.tokenize(sentences[0])))"
   ]
  },
  {
   "cell_type": "code",
   "execution_count": 14,
   "metadata": {},
   "outputs": [
    {
     "name": "stderr",
     "output_type": "stream",
     "text": [
      "Token indices sequence length is longer than the specified maximum sequence length for this model (919 > 512). Running this sequence through the model will result in indexing errors\n"
     ]
    },
    {
     "name": "stdout",
     "output_type": "stream",
     "text": [
      "Max sentence length:  919\n"
     ]
    }
   ],
   "source": [
    "# Find maximum length based on our dataset\n",
    "max_len = 0\n",
    "\n",
    "# For every sentence...\n",
    "for sent in sentences:\n",
    "\n",
    "    # Tokenize the text and add `[CLS]` and `[SEP]` tokens.\n",
    "    input_ids = tokenizer.encode(sent, add_special_tokens=True)\n",
    "\n",
    "    # Update the maximum sentence length.\n",
    "    max_len = max(max_len, len(input_ids))\n",
    "\n",
    "print('Max sentence length: ', max_len)"
   ]
  },
  {
   "cell_type": "code",
   "execution_count": 15,
   "metadata": {},
   "outputs": [
    {
     "name": "stderr",
     "output_type": "stream",
     "text": [
      "/opt/homebrew/lib/python3.11/site-packages/transformers/tokenization_utils_base.py:2614: FutureWarning: The `pad_to_max_length` argument is deprecated and will be removed in a future version, use `padding=True` or `padding='longest'` to pad to the longest sequence in the batch, or use `padding='max_length'` to pad to a max length. In this case, you can give a specific length with `max_length` (e.g. `max_length=45`) or leave max_length to None to pad to the maximal input size of the model (e.g. 512 for Bert).\n",
      "  warnings.warn(\n"
     ]
    }
   ],
   "source": [
    "# Create empty lists to store outputs\n",
    "input_ids = []\n",
    "attention_masks = []\n",
    "\n",
    "# For every sentence...\n",
    "for sent in sentences:\n",
    "    # `encode_plus` will:\n",
    "    #    (1) Tokenize the sentence\n",
    "    #    (2) Add the `[CLS]` and `[SEP]` token to the start and end\n",
    "    #    (3) Truncate/Pad sentence to max length\n",
    "    #    (4) Map tokens to their IDs\n",
    "    #    (5) Create attention mask\n",
    "    #    (6) Return a dictionary of outputs\n",
    "    encoded_sent = tokenizer.encode_plus(\n",
    "        text=sent,  # Preprocess sentence\n",
    "        add_special_tokens=True,        # Add `[CLS]` and `[SEP]`\n",
    "        max_length=150,             # Max length to truncate/pad\n",
    "        pad_to_max_length=True,         # Pad sentence to max length\n",
    "        return_attention_mask=True,      # Return attention mask\n",
    "        truncation = True\n",
    "        )\n",
    "    # Add the outputs to the lists\n",
    "    input_ids.append(encoded_sent.get('input_ids'))\n",
    "    attention_masks.append(encoded_sent.get('attention_mask'))\n",
    "# Convert lists to tensors\n",
    "input_ids = torch.tensor(input_ids)\n",
    "attention_masks = torch.tensor(attention_masks)\n",
    "labels = torch.tensor(labels)"
   ]
  },
  {
   "cell_type": "code",
   "execution_count": 16,
   "metadata": {},
   "outputs": [
    {
     "name": "stdout",
     "output_type": "stream",
     "text": [
      "Original:  misss r came out as a lee's bIAN because the boys at nasa were picking on me after that girl gave me that valentines note she was telling me of her time being bullied at high sxhool\n",
      "Token IDs: tensor([    0, 17745,    29,   910,   376,    66,    25,    10,  2084,   242,\n",
      "           18,   741, 10296,   142,     5,  2786,    23,   295,  8810,    58,\n",
      "         6201,    15,   162,    71,    14,  1816,   851,   162,    14,  7398,\n",
      "         1342,  3141,  1591,    79,    21,  2758,   162,     9,    69,    86,\n",
      "          145, 21745,    23,   239,   579,  1178,   298,  8110,     2,     1,\n",
      "            1,     1,     1,     1,     1,     1,     1,     1,     1,     1,\n",
      "            1,     1,     1,     1,     1,     1,     1,     1,     1,     1,\n",
      "            1,     1,     1,     1,     1,     1,     1,     1,     1,     1,\n",
      "            1,     1,     1,     1,     1,     1,     1,     1,     1,     1,\n",
      "            1,     1,     1,     1,     1,     1,     1,     1,     1,     1,\n",
      "            1,     1,     1,     1,     1,     1,     1,     1,     1,     1,\n",
      "            1,     1,     1,     1,     1,     1,     1,     1,     1,     1,\n",
      "            1,     1,     1,     1,     1,     1,     1,     1,     1,     1,\n",
      "            1,     1,     1,     1,     1,     1,     1,     1,     1,     1,\n",
      "            1,     1,     1,     1,     1,     1,     1,     1,     1,     1])\n"
     ]
    }
   ],
   "source": [
    "\n",
    "# Print sentence 0, now as a list of IDs.\n",
    "print('Original: ', sentences[0])\n",
    "print('Token IDs:', input_ids[0])"
   ]
  },
  {
   "cell_type": "code",
   "execution_count": 17,
   "metadata": {},
   "outputs": [],
   "source": [
    "# # Use 90% for training and 10% for validation\n",
    "# from sklearn.model_selection import train_test_split\n",
    "# train_inputs, validation_inputs, train_labels, validation_labels, train_masks, validation_masks = train_test_split(input_ids, labels, attention_masks, random_state=2018, test_size=0.1, stratify=labels)\n",
    "\n",
    "train_inputs = input_ids\n",
    "train_labels = labels\n",
    "train_masks = attention_masks"
   ]
  },
  {
   "cell_type": "code",
   "execution_count": 18,
   "metadata": {},
   "outputs": [],
   "source": [
    "\n",
    "from torch.utils.data import TensorDataset\n",
    "\n",
    "# Combine the training inputs into a TensorDataset.\n",
    "train_dataset = TensorDataset(train_inputs, train_masks, train_labels)\n",
    "#validation_dataset = TensorDataset(validation_inputs, validation_masks, validation_labels)\n"
   ]
  },
  {
   "cell_type": "code",
   "execution_count": 19,
   "metadata": {},
   "outputs": [
    {
     "data": {
      "text/plain": [
       "array([7081, 7193, 7164, 7198, 7162, 6927])"
      ]
     },
     "execution_count": 19,
     "metadata": {},
     "output_type": "execute_result"
    }
   ],
   "source": [
    "import numpy as np\n",
    "class_sample_count = np.unique(train_labels, return_counts=True)[1]\n",
    "\n",
    "class_sample_count"
   ]
  },
  {
   "cell_type": "code",
   "execution_count": 20,
   "metadata": {},
   "outputs": [],
   "source": [
    "\n",
    "from torch.utils.data import WeightedRandomSampler\n",
    "\n",
    "weight = 1. / class_sample_count\n",
    "samples_weight = weight[train_labels]\n",
    "samples_weight = torch.from_numpy(samples_weight)\n",
    "sampler = WeightedRandomSampler(samples_weight, len(samples_weight))"
   ]
  },
  {
   "cell_type": "code",
   "execution_count": 21,
   "metadata": {},
   "outputs": [],
   "source": [
    "from torch.utils.data import DataLoader, RandomSampler, SequentialSampler\n",
    "batch_size = 32\n",
    "\n",
    "# Create the DataLoaders for our training and validation sets.\n",
    "# We'll take training samples in random order. \n",
    "train_dataloader = DataLoader(\n",
    "            train_dataset,  # The training samples.\n",
    "            sampler = sampler, # Select batches based on weights\n",
    "            batch_size = batch_size # Trains with this batch size.\n",
    "        )\n",
    "\n",
    "# # For validation the order doesn't matter, so we'll just read them sequentially.\n",
    "# validation_dataloader = DataLoader(\n",
    "#             validation_dataset, # The validation samples.\n",
    "#             sampler = SequentialSampler(validation_dataset), # Pull out batches sequentially.\n",
    "#             batch_size = batch_size # Evaluate with this batch size.\n",
    "#         )"
   ]
  },
  {
   "cell_type": "code",
   "execution_count": 22,
   "metadata": {},
   "outputs": [
    {
     "name": "stderr",
     "output_type": "stream",
     "text": [
      "Some weights of RobertaForSequenceClassification were not initialized from the model checkpoint at roberta-base and are newly initialized: ['classifier.out_proj.bias', 'classifier.out_proj.weight', 'classifier.dense.bias', 'classifier.dense.weight']\n",
      "You should probably TRAIN this model on a down-stream task to be able to use it for predictions and inference.\n"
     ]
    }
   ],
   "source": [
    "\n",
    "from transformers import RobertaForSequenceClassification, AdamW, get_linear_schedule_with_warmup\n",
    "model = RobertaForSequenceClassification.from_pretrained(\n",
    "    \"roberta-base\", \n",
    "    # Specify number of classes\n",
    "    num_labels = 6, \n",
    "    # Whether the model returns attentions weights\n",
    "    output_attentions = False,\n",
    "    # Whether the model returns all hidden-states \n",
    "    output_hidden_states = False\n",
    ")"
   ]
  },
  {
   "cell_type": "code",
   "execution_count": 23,
   "metadata": {},
   "outputs": [
    {
     "name": "stderr",
     "output_type": "stream",
     "text": [
      "/opt/homebrew/lib/python3.11/site-packages/transformers/optimization.py:411: FutureWarning: This implementation of AdamW is deprecated and will be removed in a future version. Use the PyTorch implementation torch.optim.AdamW instead, or set `no_deprecation_warning=True` to disable this warning\n",
      "  warnings.warn(\n"
     ]
    }
   ],
   "source": [
    "\n",
    "# Optimizer & Learning Rate Scheduler\n",
    "optimizer = AdamW(model.parameters(),\n",
    "                  lr = 2e-5, \n",
    "                  eps = 1e-8 \n",
    "                )"
   ]
  },
  {
   "cell_type": "code",
   "execution_count": 24,
   "metadata": {},
   "outputs": [],
   "source": [
    "# Number of training epochs\n",
    "epochs = 4\n",
    "# Total number of training steps is number of batches * number of epochs.\n",
    "total_steps = len(train_dataloader) * epochs\n",
    "# Create the learning rate scheduler\n",
    "scheduler = get_linear_schedule_with_warmup(optimizer,\n",
    "                                            num_warmup_steps = 0,\n",
    "                                            num_training_steps = total_steps)"
   ]
  },
  {
   "cell_type": "code",
   "execution_count": 25,
   "metadata": {},
   "outputs": [],
   "source": [
    "\n",
    "# Function to calculate the accuracy of our predictions vs labels\n",
    "def flat_accuracy(preds, labels):\n",
    "    pred_flat = np.argmax(preds, axis=1).flatten()\n",
    "    labels_flat = labels.flatten()\n",
    "    return np.sum(pred_flat == labels_flat) / len(labels_flat)"
   ]
  },
  {
   "cell_type": "code",
   "execution_count": 26,
   "metadata": {},
   "outputs": [],
   "source": [
    "\n",
    "import time\n",
    "import datetime\n",
    "\n",
    "def format_time(elapsed):\n",
    "    '''\n",
    "    Takes a time in seconds and returns a string hh:mm:ss\n",
    "    '''\n",
    "    # Round to the nearest second.\n",
    "    elapsed_rounded = int(round((elapsed)))\n",
    "    \n",
    "    # Format as hh:mm:ss\n",
    "    return str(datetime.timedelta(seconds=elapsed_rounded))"
   ]
  },
  {
   "cell_type": "code",
   "execution_count": 27,
   "metadata": {},
   "outputs": [
    {
     "data": {
      "text/plain": [
       "device(type='cpu')"
      ]
     },
     "execution_count": 27,
     "metadata": {},
     "output_type": "execute_result"
    }
   ],
   "source": [
    "\n",
    "if torch.cuda.is_available():\n",
    "  device = torch.device(\"cuda\")\n",
    "else:\n",
    "  device = torch.device(\"cpu\")\n",
    "\n",
    "type(device)\n",
    "\n",
    "device\n",
    "     "
   ]
  },
  {
   "cell_type": "code",
   "execution_count": 28,
   "metadata": {},
   "outputs": [
    {
     "name": "stdout",
     "output_type": "stream",
     "text": [
      "\n",
      "======== Epoch 1 / 4 ========\n",
      "Training...\n",
      "  Batch    40  of  1,336.    Elapsed: 0:05:54.\n",
      "  Batch    80  of  1,336.    Elapsed: 0:12:06.\n",
      "  Batch   120  of  1,336.    Elapsed: 0:17:53.\n",
      "  Batch   160  of  1,336.    Elapsed: 0:23:28.\n",
      "  Batch   200  of  1,336.    Elapsed: 0:29:17.\n",
      "  Batch   240  of  1,336.    Elapsed: 0:35:09.\n",
      "  Batch   280  of  1,336.    Elapsed: 0:42:41.\n",
      "  Batch   320  of  1,336.    Elapsed: 0:48:24.\n",
      "  Batch   360  of  1,336.    Elapsed: 0:54:15.\n",
      "  Batch   400  of  1,336.    Elapsed: 1:00:08.\n",
      "  Batch   440  of  1,336.    Elapsed: 1:06:00.\n",
      "  Batch   480  of  1,336.    Elapsed: 1:11:49.\n",
      "  Batch   520  of  1,336.    Elapsed: 1:17:50.\n",
      "  Batch   560  of  1,336.    Elapsed: 1:24:19.\n",
      "  Batch   600  of  1,336.    Elapsed: 1:31:08.\n",
      "  Batch   640  of  1,336.    Elapsed: 1:37:14.\n",
      "  Batch   680  of  1,336.    Elapsed: 1:43:13.\n",
      "  Batch   720  of  1,336.    Elapsed: 1:49:09.\n",
      "  Batch   760  of  1,336.    Elapsed: 1:55:00.\n",
      "  Batch   800  of  1,336.    Elapsed: 2:01:39.\n",
      "  Batch   840  of  1,336.    Elapsed: 2:11:49.\n",
      "  Batch   880  of  1,336.    Elapsed: 2:22:11.\n",
      "  Batch   920  of  1,336.    Elapsed: 2:33:46.\n",
      "  Batch   960  of  1,336.    Elapsed: 2:40:32.\n",
      "  Batch 1,000  of  1,336.    Elapsed: 2:46:33.\n",
      "  Batch 1,040  of  1,336.    Elapsed: 2:52:29.\n",
      "  Batch 1,080  of  1,336.    Elapsed: 2:57:56.\n",
      "  Batch 1,120  of  1,336.    Elapsed: 3:02:53.\n",
      "  Batch 1,160  of  1,336.    Elapsed: 3:08:24.\n",
      "  Batch 1,200  of  1,336.    Elapsed: 3:13:41.\n",
      "  Batch 1,240  of  1,336.    Elapsed: 3:19:30.\n",
      "  Batch 1,280  of  1,336.    Elapsed: 3:25:44.\n",
      "  Batch 1,320  of  1,336.    Elapsed: 3:30:04.\n",
      "\n",
      "  Average training loss: 0.43\n",
      "  Training epcoh took: 3:31:48\n",
      "\n",
      "======== Epoch 2 / 4 ========\n",
      "Training...\n",
      "  Batch    40  of  1,336.    Elapsed: 0:04:28.\n",
      "  Batch    80  of  1,336.    Elapsed: 0:08:45.\n",
      "  Batch   120  of  1,336.    Elapsed: 0:13:04.\n",
      "  Batch   160  of  1,336.    Elapsed: 0:17:42.\n",
      "  Batch   200  of  1,336.    Elapsed: 0:22:02.\n",
      "  Batch   240  of  1,336.    Elapsed: 0:26:59.\n",
      "  Batch   280  of  1,336.    Elapsed: 0:31:48.\n",
      "  Batch   320  of  1,336.    Elapsed: 0:36:07.\n",
      "  Batch   360  of  1,336.    Elapsed: 0:40:30.\n",
      "  Batch   400  of  1,336.    Elapsed: 0:44:41.\n",
      "  Batch   440  of  1,336.    Elapsed: 0:48:54.\n",
      "  Batch   480  of  1,336.    Elapsed: 0:53:07.\n",
      "  Batch   520  of  1,336.    Elapsed: 0:57:19.\n",
      "  Batch   560  of  1,336.    Elapsed: 1:01:29.\n",
      "  Batch   600  of  1,336.    Elapsed: 1:05:38.\n",
      "  Batch   640  of  1,336.    Elapsed: 1:09:51.\n",
      "  Batch   680  of  1,336.    Elapsed: 1:14:01.\n",
      "  Batch   720  of  1,336.    Elapsed: 1:18:10.\n",
      "  Batch   760  of  1,336.    Elapsed: 1:22:19.\n",
      "  Batch   800  of  1,336.    Elapsed: 1:26:32.\n",
      "  Batch   840  of  1,336.    Elapsed: 1:30:41.\n",
      "  Batch   880  of  1,336.    Elapsed: 1:34:51.\n",
      "  Batch   920  of  1,336.    Elapsed: 1:39:04.\n",
      "  Batch   960  of  1,336.    Elapsed: 1:43:12.\n",
      "  Batch 1,000  of  1,336.    Elapsed: 1:47:28.\n",
      "  Batch 1,040  of  1,336.    Elapsed: 1:51:40.\n",
      "  Batch 1,080  of  1,336.    Elapsed: 1:55:51.\n",
      "  Batch 1,120  of  1,336.    Elapsed: 2:00:02.\n",
      "  Batch 1,160  of  1,336.    Elapsed: 2:04:12.\n",
      "  Batch 1,200  of  1,336.    Elapsed: 2:08:27.\n",
      "  Batch 1,240  of  1,336.    Elapsed: 2:12:42.\n",
      "  Batch 1,280  of  1,336.    Elapsed: 2:16:55.\n",
      "  Batch 1,320  of  1,336.    Elapsed: 2:21:06.\n",
      "\n",
      "  Average training loss: 0.30\n",
      "  Training epcoh took: 2:22:41\n",
      "\n",
      "======== Epoch 3 / 4 ========\n",
      "Training...\n",
      "  Batch    40  of  1,336.    Elapsed: 0:04:13.\n",
      "  Batch    80  of  1,336.    Elapsed: 0:08:23.\n",
      "  Batch   120  of  1,336.    Elapsed: 0:12:30.\n",
      "  Batch   160  of  1,336.    Elapsed: 0:16:40.\n",
      "  Batch   200  of  1,336.    Elapsed: 0:20:47.\n",
      "  Batch   240  of  1,336.    Elapsed: 0:24:59.\n",
      "  Batch   280  of  1,336.    Elapsed: 0:29:08.\n",
      "  Batch   320  of  1,336.    Elapsed: 0:33:21.\n",
      "  Batch   360  of  1,336.    Elapsed: 0:37:30.\n",
      "  Batch   400  of  1,336.    Elapsed: 0:41:38.\n",
      "  Batch   440  of  1,336.    Elapsed: 0:45:51.\n",
      "  Batch   480  of  1,336.    Elapsed: 0:50:00.\n",
      "  Batch   520  of  1,336.    Elapsed: 0:54:08.\n",
      "  Batch   560  of  1,336.    Elapsed: 0:58:16.\n",
      "  Batch   600  of  1,336.    Elapsed: 1:02:25.\n",
      "  Batch   640  of  1,336.    Elapsed: 1:06:39.\n",
      "  Batch   680  of  1,336.    Elapsed: 1:10:47.\n",
      "  Batch   720  of  1,336.    Elapsed: 1:15:10.\n",
      "  Batch   760  of  1,336.    Elapsed: 1:19:22.\n",
      "  Batch   800  of  1,336.    Elapsed: 1:23:32.\n",
      "  Batch   840  of  1,336.    Elapsed: 1:27:42.\n",
      "  Batch   880  of  1,336.    Elapsed: 1:31:53.\n",
      "  Batch   920  of  1,336.    Elapsed: 1:36:04.\n",
      "  Batch   960  of  1,336.    Elapsed: 1:40:15.\n",
      "  Batch 1,000  of  1,336.    Elapsed: 1:44:23.\n",
      "  Batch 1,040  of  1,336.    Elapsed: 1:48:35.\n",
      "  Batch 1,080  of  1,336.    Elapsed: 1:52:43.\n",
      "  Batch 1,120  of  1,336.    Elapsed: 1:56:55.\n",
      "  Batch 1,160  of  1,336.    Elapsed: 2:01:05.\n",
      "  Batch 1,200  of  1,336.    Elapsed: 2:05:22.\n",
      "  Batch 1,240  of  1,336.    Elapsed: 2:09:33.\n",
      "  Batch 1,280  of  1,336.    Elapsed: 2:13:44.\n",
      "  Batch 1,320  of  1,336.    Elapsed: 2:17:55.\n",
      "\n",
      "  Average training loss: 0.24\n",
      "  Training epcoh took: 2:19:33\n",
      "\n",
      "======== Epoch 4 / 4 ========\n",
      "Training...\n",
      "  Batch    40  of  1,336.    Elapsed: 0:04:05.\n",
      "  Batch    80  of  1,336.    Elapsed: 0:08:08.\n",
      "  Batch   120  of  1,336.    Elapsed: 0:12:19.\n",
      "  Batch   160  of  1,336.    Elapsed: 0:16:20.\n",
      "  Batch   200  of  1,336.    Elapsed: 0:21:53.\n",
      "  Batch   240  of  1,336.    Elapsed: 0:27:15.\n",
      "  Batch   280  of  1,336.    Elapsed: 0:31:30.\n",
      "  Batch   320  of  1,336.    Elapsed: 0:36:16.\n",
      "  Batch   360  of  1,336.    Elapsed: 0:40:54.\n",
      "  Batch   400  of  1,336.    Elapsed: 0:45:49.\n",
      "  Batch   440  of  1,336.    Elapsed: 0:50:24.\n",
      "  Batch   480  of  1,336.    Elapsed: 0:55:16.\n",
      "  Batch   520  of  1,336.    Elapsed: 1:00:03.\n",
      "  Batch   560  of  1,336.    Elapsed: 1:04:49.\n",
      "  Batch   600  of  1,336.    Elapsed: 1:09:33.\n",
      "  Batch   640  of  1,336.    Elapsed: 1:13:53.\n",
      "  Batch   680  of  1,336.    Elapsed: 1:18:12.\n",
      "  Batch   720  of  1,336.    Elapsed: 1:23:02.\n",
      "  Batch   760  of  1,336.    Elapsed: 1:27:21.\n",
      "  Batch   800  of  1,336.    Elapsed: 1:32:08.\n",
      "  Batch   840  of  1,336.    Elapsed: 1:37:39.\n",
      "  Batch   880  of  1,336.    Elapsed: 1:43:27.\n",
      "  Batch   920  of  1,336.    Elapsed: 1:48:05.\n",
      "  Batch   960  of  1,336.    Elapsed: 1:52:39.\n",
      "  Batch 1,000  of  1,336.    Elapsed: 1:57:04.\n",
      "  Batch 1,040  of  1,336.    Elapsed: 2:01:33.\n",
      "  Batch 1,080  of  1,336.    Elapsed: 2:05:53.\n",
      "  Batch 1,120  of  1,336.    Elapsed: 2:10:08.\n",
      "  Batch 1,160  of  1,336.    Elapsed: 2:14:20.\n",
      "  Batch 1,200  of  1,336.    Elapsed: 2:18:31.\n",
      "  Batch 1,240  of  1,336.    Elapsed: 2:22:44.\n",
      "  Batch 1,280  of  1,336.    Elapsed: 2:26:59.\n",
      "  Batch 1,320  of  1,336.    Elapsed: 2:31:12.\n",
      "\n",
      "  Average training loss: 0.22\n",
      "  Training epcoh took: 2:32:51\n",
      "\n",
      "Training complete!\n",
      "Total training took 10:46:53 (h:mm:ss)\n"
     ]
    }
   ],
   "source": [
    "import random\n",
    "import numpy as np\n",
    "\n",
    "# This training code is based on the `run_glue.py` script here:\n",
    "# https://github.com/huggingface/transformers/blob/5bfcd0485ece086ebcbed2d008813037968a9e58/examples/run_glue.py#L128\n",
    "\n",
    "# Set the seed value all over the place to make this reproducible.\n",
    "seed_val = 42\n",
    "\n",
    "random.seed(seed_val)\n",
    "np.random.seed(seed_val)\n",
    "torch.manual_seed(seed_val)\n",
    "torch.cuda.manual_seed_all(seed_val)\n",
    "\n",
    "# We'll store a number of quantities such as training and validation loss, \n",
    "# validation accuracy, and timings.\n",
    "training_stats = []\n",
    "\n",
    "# Measure the total training time for the whole run.\n",
    "total_t0 = time.time()\n",
    "\n",
    "# For each epoch...\n",
    "for epoch_i in range(0, epochs):\n",
    "    \n",
    "    # ========================================\n",
    "    #               Training\n",
    "    # ========================================\n",
    "    \n",
    "    # Perform one full pass over the training set.\n",
    "\n",
    "    print(\"\")\n",
    "    print('======== Epoch {:} / {:} ========'.format(epoch_i + 1, epochs))\n",
    "    print('Training...')\n",
    "\n",
    "    # Measure how long the training epoch takes.\n",
    "    t0 = time.time()\n",
    "\n",
    "    # Reset the total loss for this epoch.\n",
    "    total_train_loss = 0\n",
    "\n",
    "    # Put the model into training mode. Don't be mislead--the call to \n",
    "    # `train` just changes the *mode*, it doesn't *perform* the training.\n",
    "    # `dropout` and `batchnorm` layers behave differently during training\n",
    "    # vs. test (source: https://stackoverflow.com/questions/51433378/what-does-model-train-do-in-pytorch)\n",
    "    model.train()\n",
    "\n",
    "    # For each batch of training data...\n",
    "    for step, batch in enumerate(train_dataloader):\n",
    "\n",
    "        # Progress update every 40 batches.\n",
    "        if step % 40 == 0 and not step == 0:\n",
    "            # Calculate elapsed time in minutes.\n",
    "            elapsed = format_time(time.time() - t0)\n",
    "            \n",
    "            # Report progress.\n",
    "            print('  Batch {:>5,}  of  {:>5,}.    Elapsed: {:}.'.format(step, len(train_dataloader), elapsed))\n",
    "\n",
    "        # Unpack this training batch from our dataloader. \n",
    "        #\n",
    "        # As we unpack the batch, we'll also copy each tensor to the GPU using the \n",
    "        # `to` method.\n",
    "        #\n",
    "        # `batch` contains three pytorch tensors:\n",
    "        #   [0]: input ids \n",
    "        #   [1]: attention masks\n",
    "        #   [2]: labels \n",
    "        b_input_ids = batch[0].to(device)\n",
    "        b_input_mask = batch[1].to(device)\n",
    "        b_labels = batch[2].to(device)\n",
    "\n",
    "        # Always clear any previously calculated gradients before performing a\n",
    "        # backward pass. PyTorch doesn't do this automatically because \n",
    "        # accumulating the gradients is \"convenient while training RNNs\". \n",
    "        # (source: https://stackoverflow.com/questions/48001598/why-do-we-need-to-call-zero-grad-in-pytorch)\n",
    "        model.zero_grad()        \n",
    "\n",
    "        # Perform a forward pass (evaluate the model on this training batch).\n",
    "        # The documentation for this `model` function is here: \n",
    "        # https://huggingface.co/transformers/v2.2.0/model_doc/bert.html#transformers.BertForSequenceClassification\n",
    "        # It returns different numbers of parameters depending on what arguments\n",
    "        # arge given and what flags are set. For our useage here, it returns\n",
    "        # the loss (because we provided labels) and the \"logits\"--the model\n",
    "        # outputs prior to activation.\n",
    "        tmp = model(b_input_ids, \n",
    "                             token_type_ids=None, \n",
    "                             attention_mask=b_input_mask, \n",
    "                             labels=b_labels)\n",
    "        loss, logits = tmp[0], tmp[1]\n",
    "        # Accumulate the training loss over all of the batches so that we can\n",
    "        # calculate the average loss at the end. `loss` is a Tensor containing a\n",
    "        # single value; the `.item()` function just returns the Python value \n",
    "        # from the tensor.\n",
    "        total_train_loss += loss.item()\n",
    "\n",
    "        # Perform a backward pass to calculate the gradients.\n",
    "        loss.backward()\n",
    "\n",
    "        # Clip the norm of the gradients to 1.0.\n",
    "        # This is to help prevent the \"exploding gradients\" problem.\n",
    "        torch.nn.utils.clip_grad_norm_(model.parameters(), 1.0)\n",
    "\n",
    "        # Update parameters and take a step using the computed gradient.\n",
    "        # The optimizer dictates the \"update rule\"--how the parameters are\n",
    "        # modified based on their gradients, the learning rate, etc.\n",
    "        optimizer.step()\n",
    "\n",
    "        # Update the learning rate.\n",
    "        scheduler.step()\n",
    "\n",
    "    # Calculate the average loss over all of the batches.\n",
    "    avg_train_loss = total_train_loss / len(train_dataloader)            \n",
    "    \n",
    "    # Measure how long this epoch took.\n",
    "    training_time = format_time(time.time() - t0)\n",
    "\n",
    "    print(\"\")\n",
    "    print(\"  Average training loss: {0:.2f}\".format(avg_train_loss))\n",
    "    print(\"  Training epcoh took: {:}\".format(training_time))\n",
    "        \n",
    "    # # ========================================\n",
    "    # #               Validation\n",
    "    # # ========================================\n",
    "    # # After the completion of each training epoch, measure our performance on\n",
    "    # # our validation set.\n",
    "\n",
    "    # print(\"\")\n",
    "    # print(\"Running Validation...\")\n",
    "\n",
    "    # t0 = time.time()\n",
    "\n",
    "    # # Put the model in evaluation mode--the dropout layers behave differently\n",
    "    # # during evaluation.\n",
    "    # model.eval()\n",
    "\n",
    "    # # Tracking variables \n",
    "    # total_eval_accuracy = 0\n",
    "    # total_eval_loss = 0\n",
    "    # nb_eval_steps = 0\n",
    "\n",
    "    # # Evaluate data for one epoch\n",
    "    # for batch in validation_dataloader:\n",
    "        \n",
    "    #     # Unpack this training batch from our dataloader. \n",
    "    #     #\n",
    "    #     # As we unpack the batch, we'll also copy each tensor to the GPU using \n",
    "    #     # the `to` method.\n",
    "    #     #\n",
    "    #     # `batch` contains three pytorch tensors:\n",
    "    #     #   [0]: input ids \n",
    "    #     #   [1]: attention masks\n",
    "    #     #   [2]: labels \n",
    "    #     b_input_ids = batch[0].to(device)\n",
    "    #     b_input_mask = batch[1].to(device)\n",
    "    #     b_labels = batch[2].to(device)\n",
    "        \n",
    "    #     # Tell pytorch not to bother with constructing the compute graph during\n",
    "    #     # the forward pass, since this is only needed for backprop (training).\n",
    "    #     with torch.no_grad():        \n",
    "\n",
    "    #         # Forward pass, calculate logit predictions.\n",
    "    #         # token_type_ids is the same as the \"segment ids\", which \n",
    "    #         # differentiates sentence 1 and 2 in 2-sentence tasks.\n",
    "    #         # The documentation for this `model` function is here: \n",
    "    #         # https://huggingface.co/transformers/v2.2.0/model_doc/bert.html#transformers.BertForSequenceClassification\n",
    "    #         # Get the \"logits\" output by the model. The \"logits\" are the output\n",
    "    #         # values prior to applying an activation function like the softmax.\n",
    "    #         temp = model(b_input_ids, \n",
    "    #                                token_type_ids=None, \n",
    "    #                                attention_mask=b_input_mask,\n",
    "    #                                labels=b_labels)\n",
    "    #         (loss, logits) = temp[0], temp[1]\n",
    "            \n",
    "    #     # Accumulate the validation loss.\n",
    "    #     total_eval_loss += loss.item()\n",
    "\n",
    "    #     # Move logits and labels to CPU\n",
    "    #     logits = logits.detach().cpu().numpy()\n",
    "    #     label_ids = b_labels.to('cpu').numpy()\n",
    "\n",
    "    #     # Calculate the accuracy for this batch of test sentences, and\n",
    "    #     # accumulate it over all batches.\n",
    "    #     total_eval_accuracy += flat_accuracy(logits, label_ids)\n",
    "        \n",
    "\n",
    "    # # Report the final accuracy for this validation run.\n",
    "    # avg_val_accuracy = total_eval_accuracy / len(validation_dataloader)\n",
    "    # print(\"  Accuracy: {0:.2f}\".format(avg_val_accuracy))\n",
    "\n",
    "    # # Calculate the average loss over all of the batches.\n",
    "    # avg_val_loss = total_eval_loss / len(validation_dataloader)\n",
    "    \n",
    "    # # Measure how long the validation run took.\n",
    "    # validation_time = format_time(time.time() - t0)\n",
    "    \n",
    "    # print(\"  Validation Loss: {0:.2f}\".format(avg_val_loss))\n",
    "    # print(\"  Validation took: {:}\".format(validation_time))\n",
    "\n",
    "    # Record all statistics from this epoch.\n",
    "    training_stats.append(\n",
    "        {\n",
    "            'epoch': epoch_i + 1,\n",
    "            'Training Loss': avg_train_loss,\n",
    "            'Training Time': training_time\n",
    "        }\n",
    "    )\n",
    "\n",
    "print(\"\")\n",
    "print(\"Training complete!\")\n",
    "\n",
    "print(\"Total training took {:} (h:mm:ss)\".format(format_time(time.time()-total_t0)))"
   ]
  },
  {
   "cell_type": "code",
   "execution_count": 31,
   "metadata": {},
   "outputs": [],
   "source": [
    "torch.save(model, '/Users/anusha/Code/Python/Project_Local/robertamodelWithouStopWords')\n",
    "saved_model = torch.load('/Users/anusha/Code/Python/Project_Local/robertamodelWithouStopWords')\n",
    "     "
   ]
  },
  {
   "cell_type": "code",
   "execution_count": 33,
   "metadata": {},
   "outputs": [
    {
     "data": {
      "text/html": [
       "<div>\n",
       "<style scoped>\n",
       "    .dataframe tbody tr th:only-of-type {\n",
       "        vertical-align: middle;\n",
       "    }\n",
       "\n",
       "    .dataframe tbody tr th {\n",
       "        vertical-align: top;\n",
       "    }\n",
       "\n",
       "    .dataframe thead th {\n",
       "        text-align: right;\n",
       "    }\n",
       "</style>\n",
       "<table border=\"1\" class=\"dataframe\">\n",
       "  <thead>\n",
       "    <tr style=\"text-align: right;\">\n",
       "      <th></th>\n",
       "      <th>Training Loss</th>\n",
       "      <th>Training Time</th>\n",
       "    </tr>\n",
       "    <tr>\n",
       "      <th>epoch</th>\n",
       "      <th></th>\n",
       "      <th></th>\n",
       "    </tr>\n",
       "  </thead>\n",
       "  <tbody>\n",
       "    <tr>\n",
       "      <th>1</th>\n",
       "      <td>0.43019997</td>\n",
       "      <td>3:31:48</td>\n",
       "    </tr>\n",
       "    <tr>\n",
       "      <th>2</th>\n",
       "      <td>0.29769193</td>\n",
       "      <td>2:22:41</td>\n",
       "    </tr>\n",
       "    <tr>\n",
       "      <th>3</th>\n",
       "      <td>0.24410541</td>\n",
       "      <td>2:19:33</td>\n",
       "    </tr>\n",
       "    <tr>\n",
       "      <th>4</th>\n",
       "      <td>0.21561661</td>\n",
       "      <td>2:32:51</td>\n",
       "    </tr>\n",
       "  </tbody>\n",
       "</table>\n",
       "</div>"
      ],
      "text/plain": [
       "       Training Loss Training Time\n",
       "epoch                             \n",
       "1         0.43019997       3:31:48\n",
       "2         0.29769193       2:22:41\n",
       "3         0.24410541       2:19:33\n",
       "4         0.21561661       2:32:51"
      ]
     },
     "execution_count": 33,
     "metadata": {},
     "output_type": "execute_result"
    }
   ],
   "source": [
    "import pandas as pd\n",
    "\n",
    "# Display floats with two decimal places.\n",
    "pd.set_option('display.precision', 8)\n",
    "\n",
    "# Create a DataFrame from our training statistics.\n",
    "df_stats = pd.DataFrame(data=training_stats)\n",
    "\n",
    "# Use the 'epoch' as the row index.\n",
    "df_stats = df_stats.set_index('epoch')\n",
    "\n",
    "# A hack to force the column headers to wrap.\n",
    "#df = df.style.set_table_styles([dict(selector=\"th\",props=[('max-width', '70px')])])\n",
    "\n",
    "# Display the table.\n",
    "df_stats"
   ]
  },
  {
   "cell_type": "code",
   "execution_count": 35,
   "metadata": {},
   "outputs": [
    {
     "data": {
      "image/png": "[encoded data removed]",
      "text/plain": [
       "<Figure size 1200x600 with 1 Axes>"
      ]
     },
     "metadata": {},
     "output_type": "display_data"
    }
   ],
   "source": [
    "import matplotlib.pyplot as plt\n",
    "%matplotlib inline\n",
    "\n",
    "import seaborn as sns\n",
    "\n",
    "# Use plot styling from seaborn.\n",
    "sns.set(style='darkgrid')\n",
    "\n",
    "# Increase the plot size and font size.\n",
    "sns.set(font_scale=1.5)\n",
    "plt.rcParams[\"figure.figsize\"] = (12,6)\n",
    "\n",
    "# Plot the learning curve.\n",
    "plt.plot(df_stats['Training Loss'], 'b-o', label=\"Training\")\n",
    "# plt.plot(df_stats['Valid. Loss'], 'g-o', label=\"Validation\")\n",
    "\n",
    "# Label the plot.\n",
    "plt.title(\"Training Loss\")\n",
    "plt.xlabel(\"Epoch\")\n",
    "plt.ylabel(\"Loss\")\n",
    "plt.legend()\n",
    "plt.xticks([1, 2, 3, 4])\n",
    "\n",
    "plt.show()"
   ]
  },
  {
   "cell_type": "code",
   "execution_count": 36,
   "metadata": {},
   "outputs": [],
   "source": [
    "pred_sentences = X_test.values\n",
    "y_true = y_test.values"
   ]
  },
  {
   "cell_type": "code",
   "execution_count": 37,
   "metadata": {},
   "outputs": [
    {
     "name": "stderr",
     "output_type": "stream",
     "text": [
      "/opt/homebrew/lib/python3.11/site-packages/transformers/tokenization_utils_base.py:2614: FutureWarning: The `pad_to_max_length` argument is deprecated and will be removed in a future version, use `padding=True` or `padding='longest'` to pad to the longest sequence in the batch, or use `padding='max_length'` to pad to a max length. In this case, you can give a specific length with `max_length` (e.g. `max_length=45`) or leave max_length to None to pad to the maximal input size of the model (e.g. 512 for Bert).\n",
      "  warnings.warn(\n"
     ]
    }
   ],
   "source": [
    "\"\"\"Perform required preprocessing steps for pretrained BERT.\n",
    "@param    data (np.array): Array of texts to be processed.\n",
    "@return   input_ids (torch.Tensor): Tensor of token ids to be fed to a model.\n",
    "@return   attention_masks (torch.Tensor): Tensor of indices specifying which\n",
    "              tokens should be attended to by the model.\n",
    "\"\"\"\n",
    "# Create empty lists to store outputs\n",
    "t_input_ids = []\n",
    "t_attention_masks = []\n",
    "\n",
    "# For every sentence...\n",
    "for s in pred_sentences:\n",
    "    # `encode_plus` will:\n",
    "    #    (1) Tokenize the sentence\n",
    "    #    (2) Add the `[CLS]` and `[SEP]` token to the start and end\n",
    "    #    (3) Truncate/Pad sentence to max length\n",
    "    #    (4) Map tokens to their IDs\n",
    "    #    (5) Create attention mask\n",
    "    #    (6) Return a dictionary of outputs\n",
    "    p_encoded_sent = tokenizer.encode_plus(\n",
    "        text=s,  # Preprocess sentence\n",
    "        add_special_tokens=True,        # Add `[CLS]` and `[SEP]`\n",
    "        max_length=150,             # Max length to truncate/pad\n",
    "        pad_to_max_length=True,         # Pad sentence to max length\n",
    "        return_attention_mask=True,      # Return attention mask\n",
    "        truncation = True\n",
    "        )\n",
    "    # Add the outputs to the lists\n",
    "    t_input_ids.append(p_encoded_sent.get('input_ids'))\n",
    "    t_attention_masks.append(p_encoded_sent.get('attention_mask'))\n",
    "# Convert lists to tensors\n",
    "t_input_ids = torch.tensor(t_input_ids)\n",
    "t_attention_masks = torch.tensor(t_attention_masks)\n",
    "t_labels = torch.tensor(y_true)"
   ]
  },
  {
   "cell_type": "code",
   "execution_count": 38,
   "metadata": {},
   "outputs": [
    {
     "data": {
      "text/plain": [
       "torch.Size([4748, 150])"
      ]
     },
     "execution_count": 38,
     "metadata": {},
     "output_type": "execute_result"
    }
   ],
   "source": [
    "t_input_ids.size()"
   ]
  },
  {
   "cell_type": "code",
   "execution_count": 39,
   "metadata": {},
   "outputs": [],
   "source": [
    "from torch.utils.data import TensorDataset\n",
    "\n",
    "# Combine the training inputs into a TensorDataset.\n",
    "prediction_data = TensorDataset(t_input_ids, t_attention_masks, t_labels)"
   ]
  },
  {
   "cell_type": "code",
   "execution_count": 40,
   "metadata": {},
   "outputs": [],
   "source": [
    "from torch.utils.data import DataLoader, SequentialSampler\n",
    "\n",
    "# The DataLoader needs to know our batch size for training, so we specify it \n",
    "# here. For fine-tuning BERT on a specific task, the authors recommend a batch \n",
    "# size of 16 or 32.\n",
    "\n",
    "# For Prediction the order doesn't matter, so we'll just read them sequentially.\n",
    "prediction_dataloader = DataLoader(\n",
    "            prediction_data, # The test samples.\n",
    "            sampler = SequentialSampler(prediction_data), # Pull out batches sequentially.\n",
    "            batch_size = batch_size # Evaluate with this batch size.\n",
    "        )\n",
    "     "
   ]
  },
  {
   "cell_type": "code",
   "execution_count": 41,
   "metadata": {},
   "outputs": [],
   "source": [
    "import torch\n",
    "\n",
    "model = torch.load('/Users/anusha/Code/Python/Project_Local/robertamodelWithouStopWords')"
   ]
  },
  {
   "cell_type": "code",
   "execution_count": 42,
   "metadata": {},
   "outputs": [
    {
     "name": "stdout",
     "output_type": "stream",
     "text": [
      "Predicting labels for 4,748 test sentences...\n",
      "    DONE.\n"
     ]
    }
   ],
   "source": [
    "# Prediction on test set\n",
    "\n",
    "print('Predicting labels for {:,} test sentences...'.format(len(prediction_data)))\n",
    "\n",
    "# Put model in evaluation mode\n",
    "model.eval()\n",
    "\n",
    "# Tracking variables \n",
    "predictions , true_labels = [], []\n",
    "\n",
    "# Predict \n",
    "for batch in prediction_dataloader:\n",
    "  # Add batch to GPU\n",
    "  batch = tuple(t.to(device) for t in batch)\n",
    "  \n",
    "  # Unpack the inputs from our dataloader\n",
    "  b_input_ids, b_input_mask, b_labels = batch\n",
    "  \n",
    "  # Telling the model not to compute or store gradients, saving memory and \n",
    "  # speeding up prediction\n",
    "  with torch.no_grad():\n",
    "      # Forward pass, calculate logit predictions\n",
    "      outputs = model(b_input_ids, token_type_ids=None, \n",
    "                      attention_mask=b_input_mask)\n",
    "\n",
    "  logits = outputs[0]\n",
    "\n",
    "  # Move logits and labels to CPU\n",
    "  logits = logits.detach().cpu().numpy()\n",
    "  label_ids = b_labels.to('cpu').numpy()\n",
    "  \n",
    "  # Store predictions and true labels\n",
    "  predictions.append(logits)\n",
    "  true_labels.append(label_ids)\n",
    "\n",
    "print('    DONE.')"
   ]
  },
  {
   "cell_type": "code",
   "execution_count": 43,
   "metadata": {},
   "outputs": [],
   "source": [
    "import numpy as np\n",
    "\n",
    "# Combine the results across all batches. \n",
    "flat_predictions = np.concatenate(predictions, axis=0)\n",
    "\n",
    "# For each sample, pick the label (0 or 1) with the higher score.\n",
    "flat_predictions = np.argmax(flat_predictions, axis=1).flatten()\n",
    "\n",
    "# Combine the correct labels for each batch into a single list.\n",
    "flat_true_labels = np.concatenate(true_labels, axis=0)"
   ]
  },
  {
   "cell_type": "code",
   "execution_count": 44,
   "metadata": {},
   "outputs": [
    {
     "name": "stdout",
     "output_type": "stream",
     "text": [
      "Accuracy: 87.36%\n"
     ]
    },
    {
     "ename": "ValueError",
     "evalue": "Target is multiclass but average='binary'. Please choose another average setting, one of [None, 'micro', 'macro', 'weighted'].",
     "output_type": "error",
     "traceback": [
      "\u001b[0;31m---------------------------------------------------------------------------\u001b[0m",
      "\u001b[0;31mValueError\u001b[0m                                Traceback (most recent call last)",
      "\u001b[1;32m/Users/anusha/Code/Python/Project_Local/RobertaWithStopWords.ipynb Cell 40\u001b[0m line \u001b[0;36m9\n\u001b[1;32m      <a href='vscode-notebook-cell:/Users/anusha/Code/Python/Project_Local/RobertaWithStopWords.ipynb#X54sZmlsZQ%3D%3D?line=6'>7</a>\u001b[0m accuracy \u001b[39m=\u001b[39m accuracy_score(flat_true_labels, flat_predictions)\n\u001b[1;32m      <a href='vscode-notebook-cell:/Users/anusha/Code/Python/Project_Local/RobertaWithStopWords.ipynb#X54sZmlsZQ%3D%3D?line=7'>8</a>\u001b[0m \u001b[39mprint\u001b[39m(\u001b[39mf\u001b[39m\u001b[39m'\u001b[39m\u001b[39mAccuracy: \u001b[39m\u001b[39m{\u001b[39;00maccuracy\u001b[39m*\u001b[39m\u001b[39m100\u001b[39m\u001b[39m:\u001b[39;00m\u001b[39m.2f\u001b[39m\u001b[39m}\u001b[39;00m\u001b[39m%\u001b[39m\u001b[39m'\u001b[39m)\n\u001b[0;32m----> <a href='vscode-notebook-cell:/Users/anusha/Code/Python/Project_Local/RobertaWithStopWords.ipynb#X54sZmlsZQ%3D%3D?line=8'>9</a>\u001b[0m f1 \u001b[39m=\u001b[39m f1_score(flat_true_labels, flat_predictions)\n\u001b[1;32m     <a href='vscode-notebook-cell:/Users/anusha/Code/Python/Project_Local/RobertaWithStopWords.ipynb#X54sZmlsZQ%3D%3D?line=9'>10</a>\u001b[0m \u001b[39mprint\u001b[39m(\u001b[39mf\u001b[39m\u001b[39m'\u001b[39m\u001b[39mF1 score: \u001b[39m\u001b[39m{\u001b[39;00mf1\u001b[39m*\u001b[39m\u001b[39m100\u001b[39m\u001b[39m:\u001b[39;00m\u001b[39m.2f\u001b[39m\u001b[39m}\u001b[39;00m\u001b[39m%\u001b[39m\u001b[39m'\u001b[39m)\n\u001b[1;32m     <a href='vscode-notebook-cell:/Users/anusha/Code/Python/Project_Local/RobertaWithStopWords.ipynb#X54sZmlsZQ%3D%3D?line=10'>11</a>\u001b[0m precision \u001b[39m=\u001b[39m precision_score(flat_true_labels, flat_predictions)\n",
      "File \u001b[0;32m/opt/homebrew/lib/python3.11/site-packages/sklearn/utils/_param_validation.py:211\u001b[0m, in \u001b[0;36mvalidate_params.<locals>.decorator.<locals>.wrapper\u001b[0;34m(*args, **kwargs)\u001b[0m\n\u001b[1;32m    205\u001b[0m \u001b[39mtry\u001b[39;00m:\n\u001b[1;32m    206\u001b[0m     \u001b[39mwith\u001b[39;00m config_context(\n\u001b[1;32m    207\u001b[0m         skip_parameter_validation\u001b[39m=\u001b[39m(\n\u001b[1;32m    208\u001b[0m             prefer_skip_nested_validation \u001b[39mor\u001b[39;00m global_skip_validation\n\u001b[1;32m    209\u001b[0m         )\n\u001b[1;32m    210\u001b[0m     ):\n\u001b[0;32m--> 211\u001b[0m         \u001b[39mreturn\u001b[39;00m func(\u001b[39m*\u001b[39;49margs, \u001b[39m*\u001b[39;49m\u001b[39m*\u001b[39;49mkwargs)\n\u001b[1;32m    212\u001b[0m \u001b[39mexcept\u001b[39;00m InvalidParameterError \u001b[39mas\u001b[39;00m e:\n\u001b[1;32m    213\u001b[0m     \u001b[39m# When the function is just a wrapper around an estimator, we allow\u001b[39;00m\n\u001b[1;32m    214\u001b[0m     \u001b[39m# the function to delegate validation to the estimator, but we replace\u001b[39;00m\n\u001b[1;32m    215\u001b[0m     \u001b[39m# the name of the estimator by the name of the function in the error\u001b[39;00m\n\u001b[1;32m    216\u001b[0m     \u001b[39m# message to avoid confusion.\u001b[39;00m\n\u001b[1;32m    217\u001b[0m     msg \u001b[39m=\u001b[39m re\u001b[39m.\u001b[39msub(\n\u001b[1;32m    218\u001b[0m         \u001b[39mr\u001b[39m\u001b[39m\"\u001b[39m\u001b[39mparameter of \u001b[39m\u001b[39m\\\u001b[39m\u001b[39mw+ must be\u001b[39m\u001b[39m\"\u001b[39m,\n\u001b[1;32m    219\u001b[0m         \u001b[39mf\u001b[39m\u001b[39m\"\u001b[39m\u001b[39mparameter of \u001b[39m\u001b[39m{\u001b[39;00mfunc\u001b[39m.\u001b[39m\u001b[39m__qualname__\u001b[39m\u001b[39m}\u001b[39;00m\u001b[39m must be\u001b[39m\u001b[39m\"\u001b[39m,\n\u001b[1;32m    220\u001b[0m         \u001b[39mstr\u001b[39m(e),\n\u001b[1;32m    221\u001b[0m     )\n",
      "File \u001b[0;32m/opt/homebrew/lib/python3.11/site-packages/sklearn/metrics/_classification.py:1238\u001b[0m, in \u001b[0;36mf1_score\u001b[0;34m(y_true, y_pred, labels, pos_label, average, sample_weight, zero_division)\u001b[0m\n\u001b[1;32m   1070\u001b[0m \u001b[39m@validate_params\u001b[39m(\n\u001b[1;32m   1071\u001b[0m     {\n\u001b[1;32m   1072\u001b[0m         \u001b[39m\"\u001b[39m\u001b[39my_true\u001b[39m\u001b[39m\"\u001b[39m: [\u001b[39m\"\u001b[39m\u001b[39marray-like\u001b[39m\u001b[39m\"\u001b[39m, \u001b[39m\"\u001b[39m\u001b[39msparse matrix\u001b[39m\u001b[39m\"\u001b[39m],\n\u001b[0;32m   (...)\u001b[0m\n\u001b[1;32m   1096\u001b[0m     zero_division\u001b[39m=\u001b[39m\u001b[39m\"\u001b[39m\u001b[39mwarn\u001b[39m\u001b[39m\"\u001b[39m,\n\u001b[1;32m   1097\u001b[0m ):\n\u001b[1;32m   1098\u001b[0m \u001b[39m    \u001b[39m\u001b[39m\"\"\"Compute the F1 score, also known as balanced F-score or F-measure.\u001b[39;00m\n\u001b[1;32m   1099\u001b[0m \n\u001b[1;32m   1100\u001b[0m \u001b[39m    The F1 score can be interpreted as a harmonic mean of the precision and\u001b[39;00m\n\u001b[0;32m   (...)\u001b[0m\n\u001b[1;32m   1236\u001b[0m \u001b[39m    array([0.66666667, 1.        , 0.66666667])\u001b[39;00m\n\u001b[1;32m   1237\u001b[0m \u001b[39m    \"\"\"\u001b[39;00m\n\u001b[0;32m-> 1238\u001b[0m     \u001b[39mreturn\u001b[39;00m fbeta_score(\n\u001b[1;32m   1239\u001b[0m         y_true,\n\u001b[1;32m   1240\u001b[0m         y_pred,\n\u001b[1;32m   1241\u001b[0m         beta\u001b[39m=\u001b[39;49m\u001b[39m1\u001b[39;49m,\n\u001b[1;32m   1242\u001b[0m         labels\u001b[39m=\u001b[39;49mlabels,\n\u001b[1;32m   1243\u001b[0m         pos_label\u001b[39m=\u001b[39;49mpos_label,\n\u001b[1;32m   1244\u001b[0m         average\u001b[39m=\u001b[39;49maverage,\n\u001b[1;32m   1245\u001b[0m         sample_weight\u001b[39m=\u001b[39;49msample_weight,\n\u001b[1;32m   1246\u001b[0m         zero_division\u001b[39m=\u001b[39;49mzero_division,\n\u001b[1;32m   1247\u001b[0m     )\n",
      "File \u001b[0;32m/opt/homebrew/lib/python3.11/site-packages/sklearn/utils/_param_validation.py:184\u001b[0m, in \u001b[0;36mvalidate_params.<locals>.decorator.<locals>.wrapper\u001b[0;34m(*args, **kwargs)\u001b[0m\n\u001b[1;32m    182\u001b[0m global_skip_validation \u001b[39m=\u001b[39m get_config()[\u001b[39m\"\u001b[39m\u001b[39mskip_parameter_validation\u001b[39m\u001b[39m\"\u001b[39m]\n\u001b[1;32m    183\u001b[0m \u001b[39mif\u001b[39;00m global_skip_validation:\n\u001b[0;32m--> 184\u001b[0m     \u001b[39mreturn\u001b[39;00m func(\u001b[39m*\u001b[39;49margs, \u001b[39m*\u001b[39;49m\u001b[39m*\u001b[39;49mkwargs)\n\u001b[1;32m    186\u001b[0m func_sig \u001b[39m=\u001b[39m signature(func)\n\u001b[1;32m    188\u001b[0m \u001b[39m# Map *args/**kwargs to the function signature\u001b[39;00m\n",
      "File \u001b[0;32m/opt/homebrew/lib/python3.11/site-packages/sklearn/metrics/_classification.py:1411\u001b[0m, in \u001b[0;36mfbeta_score\u001b[0;34m(y_true, y_pred, beta, labels, pos_label, average, sample_weight, zero_division)\u001b[0m\n\u001b[1;32m   1250\u001b[0m \u001b[39m@validate_params\u001b[39m(\n\u001b[1;32m   1251\u001b[0m     {\n\u001b[1;32m   1252\u001b[0m         \u001b[39m\"\u001b[39m\u001b[39my_true\u001b[39m\u001b[39m\"\u001b[39m: [\u001b[39m\"\u001b[39m\u001b[39marray-like\u001b[39m\u001b[39m\"\u001b[39m, \u001b[39m\"\u001b[39m\u001b[39msparse matrix\u001b[39m\u001b[39m\"\u001b[39m],\n\u001b[0;32m   (...)\u001b[0m\n\u001b[1;32m   1278\u001b[0m     zero_division\u001b[39m=\u001b[39m\u001b[39m\"\u001b[39m\u001b[39mwarn\u001b[39m\u001b[39m\"\u001b[39m,\n\u001b[1;32m   1279\u001b[0m ):\n\u001b[1;32m   1280\u001b[0m \u001b[39m    \u001b[39m\u001b[39m\"\"\"Compute the F-beta score.\u001b[39;00m\n\u001b[1;32m   1281\u001b[0m \n\u001b[1;32m   1282\u001b[0m \u001b[39m    The F-beta score is the weighted harmonic mean of precision and recall,\u001b[39;00m\n\u001b[0;32m   (...)\u001b[0m\n\u001b[1;32m   1408\u001b[0m \u001b[39m    0.38...\u001b[39;00m\n\u001b[1;32m   1409\u001b[0m \u001b[39m    \"\"\"\u001b[39;00m\n\u001b[0;32m-> 1411\u001b[0m     _, _, f, _ \u001b[39m=\u001b[39m precision_recall_fscore_support(\n\u001b[1;32m   1412\u001b[0m         y_true,\n\u001b[1;32m   1413\u001b[0m         y_pred,\n\u001b[1;32m   1414\u001b[0m         beta\u001b[39m=\u001b[39;49mbeta,\n\u001b[1;32m   1415\u001b[0m         labels\u001b[39m=\u001b[39;49mlabels,\n\u001b[1;32m   1416\u001b[0m         pos_label\u001b[39m=\u001b[39;49mpos_label,\n\u001b[1;32m   1417\u001b[0m         average\u001b[39m=\u001b[39;49maverage,\n\u001b[1;32m   1418\u001b[0m         warn_for\u001b[39m=\u001b[39;49m(\u001b[39m\"\u001b[39;49m\u001b[39mf-score\u001b[39;49m\u001b[39m\"\u001b[39;49m,),\n\u001b[1;32m   1419\u001b[0m         sample_weight\u001b[39m=\u001b[39;49msample_weight,\n\u001b[1;32m   1420\u001b[0m         zero_division\u001b[39m=\u001b[39;49mzero_division,\n\u001b[1;32m   1421\u001b[0m     )\n\u001b[1;32m   1422\u001b[0m     \u001b[39mreturn\u001b[39;00m f\n",
      "File \u001b[0;32m/opt/homebrew/lib/python3.11/site-packages/sklearn/utils/_param_validation.py:184\u001b[0m, in \u001b[0;36mvalidate_params.<locals>.decorator.<locals>.wrapper\u001b[0;34m(*args, **kwargs)\u001b[0m\n\u001b[1;32m    182\u001b[0m global_skip_validation \u001b[39m=\u001b[39m get_config()[\u001b[39m\"\u001b[39m\u001b[39mskip_parameter_validation\u001b[39m\u001b[39m\"\u001b[39m]\n\u001b[1;32m    183\u001b[0m \u001b[39mif\u001b[39;00m global_skip_validation:\n\u001b[0;32m--> 184\u001b[0m     \u001b[39mreturn\u001b[39;00m func(\u001b[39m*\u001b[39;49margs, \u001b[39m*\u001b[39;49m\u001b[39m*\u001b[39;49mkwargs)\n\u001b[1;32m    186\u001b[0m func_sig \u001b[39m=\u001b[39m signature(func)\n\u001b[1;32m    188\u001b[0m \u001b[39m# Map *args/**kwargs to the function signature\u001b[39;00m\n",
      "File \u001b[0;32m/opt/homebrew/lib/python3.11/site-packages/sklearn/metrics/_classification.py:1721\u001b[0m, in \u001b[0;36mprecision_recall_fscore_support\u001b[0;34m(y_true, y_pred, beta, labels, pos_label, average, warn_for, sample_weight, zero_division)\u001b[0m\n\u001b[1;32m   1563\u001b[0m \u001b[39m\u001b[39m\u001b[39m\"\"\"Compute precision, recall, F-measure and support for each class.\u001b[39;00m\n\u001b[1;32m   1564\u001b[0m \n\u001b[1;32m   1565\u001b[0m \u001b[39mThe precision is the ratio ``tp / (tp + fp)`` where ``tp`` is the number of\u001b[39;00m\n\u001b[0;32m   (...)\u001b[0m\n\u001b[1;32m   1718\u001b[0m \u001b[39m array([2, 2, 2]))\u001b[39;00m\n\u001b[1;32m   1719\u001b[0m \u001b[39m\"\"\"\u001b[39;00m\n\u001b[1;32m   1720\u001b[0m zero_division_value \u001b[39m=\u001b[39m _check_zero_division(zero_division)\n\u001b[0;32m-> 1721\u001b[0m labels \u001b[39m=\u001b[39m _check_set_wise_labels(y_true, y_pred, average, labels, pos_label)\n\u001b[1;32m   1723\u001b[0m \u001b[39m# Calculate tp_sum, pred_sum, true_sum ###\u001b[39;00m\n\u001b[1;32m   1724\u001b[0m samplewise \u001b[39m=\u001b[39m average \u001b[39m==\u001b[39m \u001b[39m\"\u001b[39m\u001b[39msamples\u001b[39m\u001b[39m\"\u001b[39m\n",
      "File \u001b[0;32m/opt/homebrew/lib/python3.11/site-packages/sklearn/metrics/_classification.py:1516\u001b[0m, in \u001b[0;36m_check_set_wise_labels\u001b[0;34m(y_true, y_pred, average, labels, pos_label)\u001b[0m\n\u001b[1;32m   1514\u001b[0m         \u001b[39mif\u001b[39;00m y_type \u001b[39m==\u001b[39m \u001b[39m\"\u001b[39m\u001b[39mmulticlass\u001b[39m\u001b[39m\"\u001b[39m:\n\u001b[1;32m   1515\u001b[0m             average_options\u001b[39m.\u001b[39mremove(\u001b[39m\"\u001b[39m\u001b[39msamples\u001b[39m\u001b[39m\"\u001b[39m)\n\u001b[0;32m-> 1516\u001b[0m         \u001b[39mraise\u001b[39;00m \u001b[39mValueError\u001b[39;00m(\n\u001b[1;32m   1517\u001b[0m             \u001b[39m\"\u001b[39m\u001b[39mTarget is \u001b[39m\u001b[39m%s\u001b[39;00m\u001b[39m but average=\u001b[39m\u001b[39m'\u001b[39m\u001b[39mbinary\u001b[39m\u001b[39m'\u001b[39m\u001b[39m. Please \u001b[39m\u001b[39m\"\u001b[39m\n\u001b[1;32m   1518\u001b[0m             \u001b[39m\"\u001b[39m\u001b[39mchoose another average setting, one of \u001b[39m\u001b[39m%r\u001b[39;00m\u001b[39m.\u001b[39m\u001b[39m\"\u001b[39m \u001b[39m%\u001b[39m (y_type, average_options)\n\u001b[1;32m   1519\u001b[0m         )\n\u001b[1;32m   1520\u001b[0m \u001b[39melif\u001b[39;00m pos_label \u001b[39mnot\u001b[39;00m \u001b[39min\u001b[39;00m (\u001b[39mNone\u001b[39;00m, \u001b[39m1\u001b[39m):\n\u001b[1;32m   1521\u001b[0m     warnings\u001b[39m.\u001b[39mwarn(\n\u001b[1;32m   1522\u001b[0m         \u001b[39m\"\u001b[39m\u001b[39mNote that pos_label (set to \u001b[39m\u001b[39m%r\u001b[39;00m\u001b[39m) is ignored when \u001b[39m\u001b[39m\"\u001b[39m\n\u001b[1;32m   1523\u001b[0m         \u001b[39m\"\u001b[39m\u001b[39maverage != \u001b[39m\u001b[39m'\u001b[39m\u001b[39mbinary\u001b[39m\u001b[39m'\u001b[39m\u001b[39m (got \u001b[39m\u001b[39m%r\u001b[39;00m\u001b[39m). You may use \u001b[39m\u001b[39m\"\u001b[39m\n\u001b[0;32m   (...)\u001b[0m\n\u001b[1;32m   1526\u001b[0m         \u001b[39mUserWarning\u001b[39;00m,\n\u001b[1;32m   1527\u001b[0m     )\n",
      "\u001b[0;31mValueError\u001b[0m: Target is multiclass but average='binary'. Please choose another average setting, one of [None, 'micro', 'macro', 'weighted']."
     ]
    }
   ],
   "source": [
    "from sklearn.metrics import accuracy_score, roc_curve, auc, f1_score, precision_score, recall_score\n",
    "from sklearn.metrics import confusion_matrix, classification_report\n",
    "import seaborn as sns\n",
    "import matplotlib.pyplot as plt\n",
    "%matplotlib inline\n",
    "\n",
    "accuracy = accuracy_score(flat_true_labels, flat_predictions)\n",
    "print(f'Accuracy: {accuracy*100:.2f}%')\n",
    "f1 = f1_score(flat_true_labels, flat_predictions)\n",
    "print(f'F1 score: {f1*100:.2f}%')\n",
    "precision = precision_score(flat_true_labels, flat_predictions)\n",
    "print(f'Precision: {precision*100:.2f}%')\n",
    "recall = recall_score(flat_true_labels, flat_predictions)\n",
    "print(f'Recall: {recall*100:.2f}%')\n",
    "\n",
    "c_matrix =confusion_matrix(flat_true_labels,flat_predictions)\n",
    "clr = classification_report(flat_true_labels,flat_predictions)\n",
    "accuracy = accuracy_score(flat_true_labels, flat_predictions)\n",
    "print(\"Accuracy\", round(accuracy,2) )\n",
    "plt.figure(figsize=(8,8))\n",
    "sns.heatmap(c_matrix,annot=True, fmt='g', vmin=0, cbar=False, cmap='Blues')\n",
    "plt.xlabel(\"Predicted Value\")\n",
    "plt.ylabel(\"Actual Value\")\n",
    "plt.title(\"Confusion matrix\")\n",
    "plt.show()\n",
    "print(clr)\n",
    "     "
   ]
  },
  {
   "cell_type": "code",
   "execution_count": null,
   "metadata": {},
   "outputs": [],
   "source": []
  }
 ],
 "metadata": {
  "kernelspec": {
   "display_name": "Python 3",
   "language": "python",
   "name": "python3"
  },
  "language_info": {
   "codemirror_mode": {
    "name": "ipython",
    "version": 3
   },
   "file_extension": ".py",
   "mimetype": "text/x-python",
   "name": "python",
   "nbconvert_exporter": "python",
   "pygments_lexer": "ipython3",
   "version": "3.11.6"
  }
 },
 "nbformat": 4,
 "nbformat_minor": 2
}
