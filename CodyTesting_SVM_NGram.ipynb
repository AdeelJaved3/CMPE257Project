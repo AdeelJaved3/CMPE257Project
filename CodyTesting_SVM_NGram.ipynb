{
 "cells": [
  {
   "cell_type": "code",
   "execution_count": 1,
   "metadata": {},
   "outputs": [],
   "source": [
    "import pandas as pd\n",
    "import numpy as np\n",
    "import re\n",
    "from langdetect import detect\n",
    "from sklearn.feature_extraction.text import CountVectorizer\n",
    "from sklearn.model_selection import train_test_split\n",
    "from sklearn import svm\n",
    "from sklearn import metrics\n",
    "import matplotlib.pyplot as plt"
   ]
  },
  {
   "cell_type": "code",
   "execution_count": 2,
   "metadata": {},
   "outputs": [],
   "source": [
    "custom_stopwords = {\n",
    "    \"i\", \"me\", \"my\", \"myself\", \"we\", \"our\", \"ours\", \"ourselves\", \"you\", \"your\",\n",
    "    \"yours\", \"yourself\", \"yourselves\",\n",
    "    \"he\", \"him\", \"his\", \"himself\", \"she\", \"her\", \"hers\", \"herself\", \"it\",\n",
    "    \"its\", \"itself\", \"they\", \"them\", \"their\",\n",
    "    \"theirs\", \"themselves\", \"what\", \"which\", \"who\", \"whom\", \"this\", \"that\",\n",
    "    \"these\", \"those\", \"am\", \"is\", \"are\", \"was\",\n",
    "    \"were\", \"be\", \"been\", \"being\", \"have\", \"has\", \"had\", \"having\", \"do\",\n",
    "    \"does\", \"did\", \"doing\", \"a\", \"an\", \"the\", \"and\",\n",
    "    \"but\", \"if\", \"or\", \"because\", \"as\", \"until\", \"while\", \"of\", \"at\", \"by\",\n",
    "    \"for\", \"with\", \"about\", \"against\", \"between\",\n",
    "    \"into\", \"through\", \"during\", \"before\", \"after\", \"above\", \"below\", \"to\",\n",
    "    \"from\", \"up\", \"down\", \"in\", \"out\", \"on\", \"off\",\n",
    "    \"over\", \"under\", \"again\", \"further\", \"then\", \"once\", \"here\", \"there\",\n",
    "    \"when\", \"where\", \"why\", \"how\", \"all\", \"any\", \"both\",\n",
    "    \"each\", \"few\", \"more\", \"most\", \"other\", \"some\", \"such\", \"no\", \"nor\", \"not\",\n",
    "    \"only\", \"own\", \"same\", \"so\", \"than\", \"too\", \"very\",\n",
    "    \"s\", \"t\", \"can\", \"will\", \"just\", \"don\", \"should\", \"now\", \"d\", \"ll\", \"m\",\n",
    "    \"o\", \"re\", \"ve\", \"y\", \"ain\", \"aren\", \"couldn\", \"didn\",\n",
    "    \"doesn\", \"hadn\", \"hasn\", \"haven\", \"isn\", \"ma\", \"mightn\", \"mustn\", \"needn\",\n",
    "    \"shan\", \"shouldn\", \"wasn\", \"weren\", \"won\", \"wouldn\"\n",
    "}"
   ]
  },
  {
   "cell_type": "code",
   "execution_count": 3,
   "metadata": {},
   "outputs": [],
   "source": [
    "def detect_language(text):\n",
    "    try:\n",
    "        return detect(text)\n",
    "    except:\n",
    "        return \"unknown\"\n"
   ]
  },
  {
   "cell_type": "code",
   "execution_count": 9,
   "metadata": {},
   "outputs": [],
   "source": [
    "def confusion_matrix(y_test, y_pred):\n",
    "\n",
    "    cm = metrics.confusion_matrix(y_test, y_pred)\n",
    "    plt.figure(figsize=(8, 6))\n",
    "    plt.imshow(cm, interpolation='nearest', cmap=plt.cm.Blues)\n",
    "    plt.title('Confusion Matrix')\n",
    "    plt.colorbar()\n",
    "    tick_marks = np.arange(2)\n",
    "    plt.xticks(tick_marks, [\"non-cyberbullying\", \"cyberbullying\"])\n",
    "    plt.yticks(tick_marks, [\"non-cyberbullying\", \"cyberbullying\"])\n",
    "    plt.xlabel('Predicted Label')\n",
    "    plt.ylabel('True Label')\n",
    "\n",
    "    for i in range(2):\n",
    "        for j in range(2):\n",
    "            plt.text(j, i, str(cm[i, j]), horizontalalignment=\"center\",\n",
    "                     color=\"white\" if cm[i, j] > cm.max() / 2 else \"black\")\n",
    "\n",
    "    plt.show()\n"
   ]
  },
  {
   "cell_type": "code",
   "execution_count": 5,
   "metadata": {},
   "outputs": [],
   "source": [
    "def clean_text(text):\n",
    "\n",
    "    text = text.lower()\n",
    "    text = re.sub(r'[^a-zA-Z\\s]', '', text)\n",
    "    words_to_filter = text.split()\n",
    "    # words_to_filter = [word for word in words if word.lower() not in \\\n",
    "    #                                         words_to_remove]\n",
    "\n",
    "    words_to_filter = ' '.join(words_to_filter)\n",
    "    return words_to_filter"
   ]
  },
  {
   "cell_type": "code",
   "execution_count": 6,
   "metadata": {},
   "outputs": [],
   "source": [
    "def preprocess_data(df):\n",
    "\n",
    "    types_of_CB = [\"religion\", \"age\", \"other_cyberbullying\", \"ethnicity\",\"gender\"]\n",
    "\n",
    "    # Check for missing values\n",
    "    missing_values = df.isna().sum()\n",
    "    print(f'Missing Values:\\n{missing_values}')\n",
    "\n",
    "    # Find all tweets that are less than 2 character in length and remove them\n",
    "    df['tweet_length'] = [len(text.split()) for text in df.tweet_text]\n",
    "    df = df.loc[df['tweet_length'] >= 2]\n",
    "    df.drop('tweet_length', axis=1, inplace=True)\n",
    "\n",
    "    # Clean the text by removing special characters and converting all text to lower case\n",
    "    df['tweet_text'] = df['tweet_text'].apply(clean_text)\n",
    "\n",
    "    # Manually encode the different types of cyberbullying/non-cyberbullying\n",
    "    df.loc[df['cyberbullying_type'].isin(types_of_CB), 'cyberbullying_type']= 0\n",
    "\n",
    "    df.loc[df['cyberbullying_type'] == 'not_cyberbullying','cyberbullying_type'] = 1\n",
    "\n",
    "    # Ensure target column is of type int\n",
    "    df['cyberbullying_type'] = df['cyberbullying_type'].astype(int)\n",
    "\n",
    "    # Check Unique y values\n",
    "    y_values = df['cyberbullying_type'].value_counts()\n",
    "    print(f'Check y values and counts \\n {y_values}')\n",
    "\n",
    "    return df\n",
    "    # filter out any non-english tweets\n",
    "    # df_resize['language'] = df_resize['tweet_text'].apply(detect_language)\n",
    "    # df_english = df[df['language'] == 'en']"
   ]
  },
  {
   "cell_type": "code",
   "execution_count": 10,
   "metadata": {},
   "outputs": [
    {
     "name": "stdout",
     "output_type": "stream",
     "text": [
      "Missing Values:\n",
      "tweet_text            0\n",
      "cyberbullying_type    0\n",
      "dtype: int64\n"
     ]
    },
    {
     "name": "stderr",
     "output_type": "stream",
     "text": [
      "/Users/admin/anaconda3/lib/python3.8/site-packages/pandas/core/frame.py:4163: SettingWithCopyWarning: \n",
      "A value is trying to be set on a copy of a slice from a DataFrame\n",
      "\n",
      "See the caveats in the documentation: https://pandas.pydata.org/pandas-docs/stable/user_guide/indexing.html#returning-a-view-versus-a-copy\n",
      "  return super().drop(\n",
      "<ipython-input-6-3f32df8c5d79>:15: SettingWithCopyWarning: \n",
      "A value is trying to be set on a copy of a slice from a DataFrame.\n",
      "Try using .loc[row_indexer,col_indexer] = value instead\n",
      "\n",
      "See the caveats in the documentation: https://pandas.pydata.org/pandas-docs/stable/user_guide/indexing.html#returning-a-view-versus-a-copy\n",
      "  df['tweet_text'] = df['tweet_text'].apply(clean_text)\n",
      "/Users/admin/anaconda3/lib/python3.8/site-packages/pandas/core/indexing.py:670: SettingWithCopyWarning: \n",
      "A value is trying to be set on a copy of a slice from a DataFrame\n",
      "\n",
      "See the caveats in the documentation: https://pandas.pydata.org/pandas-docs/stable/user_guide/indexing.html#returning-a-view-versus-a-copy\n",
      "  iloc._setitem_with_indexer(indexer, value)\n",
      "<ipython-input-6-3f32df8c5d79>:18: SettingWithCopyWarning: \n",
      "A value is trying to be set on a copy of a slice from a DataFrame\n",
      "\n",
      "See the caveats in the documentation: https://pandas.pydata.org/pandas-docs/stable/user_guide/indexing.html#returning-a-view-versus-a-copy\n",
      "  df.loc[df['cyberbullying_type'].isin(types_of_CB), 'cyberbullying_type']= 0\n",
      "<ipython-input-6-3f32df8c5d79>:20: SettingWithCopyWarning: \n",
      "A value is trying to be set on a copy of a slice from a DataFrame\n",
      "\n",
      "See the caveats in the documentation: https://pandas.pydata.org/pandas-docs/stable/user_guide/indexing.html#returning-a-view-versus-a-copy\n",
      "  df.loc[df['cyberbullying_type'] == 'not_cyberbullying','cyberbullying_type'] = 1\n",
      "<ipython-input-6-3f32df8c5d79>:23: SettingWithCopyWarning: \n",
      "A value is trying to be set on a copy of a slice from a DataFrame.\n",
      "Try using .loc[row_indexer,col_indexer] = value instead\n",
      "\n",
      "See the caveats in the documentation: https://pandas.pydata.org/pandas-docs/stable/user_guide/indexing.html#returning-a-view-versus-a-copy\n",
      "  df['cyberbullying_type'] = df['cyberbullying_type'].astype(int)\n"
     ]
    },
    {
     "name": "stdout",
     "output_type": "stream",
     "text": [
      "Check y values and counts \n",
      " 0    39596\n",
      "1     7892\n",
      "Name: cyberbullying_type, dtype: int64\n",
      "                                          tweet_text  cyberbullying_type\n",
      "0  in other words katandandre your food was crapi...                   1\n",
      "1  why is aussietv so white mkr theblock imaceleb...                   1\n",
      "2  xochitlsuckkks a classy whore or more red velv...                   1\n",
      "3  jasongio meh p thanks for the heads up but not...                   1\n",
      "4  rudhoeenglish this is an isis account pretendi...                   1\n",
      "Unique y test data [0 1]\n",
      "Unique y train data [1 0]\n",
      "Training Complete\n",
      "Accuracy:  0.848494419877869\n"
     ]
    },
    {
     "data": {
      "image/png": "[encoded data removed]",
      "text/plain": [
       "<Figure size 576x432 with 2 Axes>"
      ]
     },
     "metadata": {
      "needs_background": "light"
     },
     "output_type": "display_data"
    }
   ],
   "source": [
    "def main():\n",
    "    df = pd.read_csv(\"cyberbullying_tweets.csv\")\n",
    "\n",
    "    df = preprocess_data(df)\n",
    "\n",
    "    # Look at the data\n",
    "    print(df.head())\n",
    "\n",
    "    # X is the features (the input data)\n",
    "    X = df['tweet_text']\n",
    "\n",
    "    # y is the targets (output or label)\n",
    "    y = df['cyberbullying_type']\n",
    "\n",
    "    # Create features based on n-grams in corpus\n",
    "    vectorized_features = CountVectorizer(ngram_range=(1, 3))\n",
    "\n",
    "    X_ngram = vectorized_features.fit_transform(X)\n",
    "\n",
    "    X_train, X_test, y_train, y_test = train_test_split(X_ngram,\n",
    "                                                        y, test_size=0.2,\n",
    "                                                        random_state=42)\n",
    "\n",
    "    print(\"Unique y test data\", y_test.unique())\n",
    "    print(\"Unique y train data\", y_train.unique())\n",
    "\n",
    "    SVM = svm.SVC(kernel='linear', decision_function_shape='ovr')\n",
    "\n",
    "    SVM.fit(X_train, y_train)\n",
    "\n",
    "    y_pred = SVM.predict(X_test)\n",
    "\n",
    "    print(\"Training Complete\")\n",
    "    print(f'Accuracy: ', metrics.accuracy_score(y_test, y_pred))\n",
    "\n",
    "    # Print confusion matrix\n",
    "    confusion_matrix(y_test, y_pred)\n",
    "\n",
    "# Press the green button in the gutter to run the script.\n",
    "if __name__ == '__main__':\n",
    "    main()"
   ]
  },
  {
   "cell_type": "code",
   "execution_count": null,
   "metadata": {},
   "outputs": [],
   "source": []
  }
 ],
 "metadata": {
  "kernelspec": {
   "display_name": "Python 3",
   "language": "python",
   "name": "python3"
  },
  "language_info": {
   "codemirror_mode": {
    "name": "ipython",
    "version": 3
   },
   "file_extension": ".py",
   "mimetype": "text/x-python",
   "name": "python",
   "nbconvert_exporter": "python",
   "pygments_lexer": "ipython3",
   "version": "3.8.5"
  }
 },
 "nbformat": 4,
 "nbformat_minor": 4
}
