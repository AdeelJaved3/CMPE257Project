{
 "cells": [
  {
   "cell_type": "code",
   "execution_count": 42,
   "metadata": {},
   "outputs": [],
   "source": [
    "import pickle as pkl\n",
    "import pandas as pd\n",
    "import numpy as np\n",
    "import re\n",
    "import preprocessor as p\n",
    "import pycld2\n",
    "from sklearn.model_selection import RandomizedSearchCV\n",
    "from sklearn.feature_extraction.text import CountVectorizer\n",
    "from sklearn.model_selection import train_test_split\n",
    "from sklearn import svm\n",
    "from sklearn import metrics\n",
    "import matplotlib.pyplot as plt\n",
    "pd.options.mode.chained_assignment = None"
   ]
  },
  {
   "cell_type": "code",
   "execution_count": 2,
   "metadata": {},
   "outputs": [],
   "source": [
    "custom_stopwords = {\n",
    "    \"i\", \"me\", \"my\", \"myself\", \"we\", \"our\", \"ours\", \"ourselves\", \"you\", \"your\", \"yours\", \"yourself\", \"yourselves\",\n",
    "    \"he\", \"him\", \"his\", \"himself\", \"she\", \"her\", \"hers\", \"herself\", \"it\", \"its\", \"itself\", \"they\", \"them\", \"their\",\n",
    "    \"theirs\", \"themselves\", \"what\", \"which\", \"who\", \"whom\", \"this\", \"that\", \"these\", \"those\", \"am\", \"is\", \"are\", \"was\",\"were\", \"be\", \"been\", \"being\", \"have\", \"has\", \"had\", \"having\", \"do\", \"does\", \"did\", \"doing\", \"a\", \"an\", \"the\", \"and\", \"but\", \"if\", \"or\", \"because\", \"as\", \"until\", \"while\", \"of\", \"at\", \"by\", \"for\", \"with\", \"about\", \"against\", \"between\",\"into\", \"through\", \"during\", \"before\", \"after\", \"above\", \"below\", \"to\", \"from\", \"up\", \"down\", \"in\", \"out\", \"on\", \"off\",\"over\", \"under\", \"again\", \"further\", \"then\", \"once\", \"here\", \"there\", \"when\", \"where\", \"why\", \"how\", \"all\", \"any\", \"both\",\"each\", \"few\", \"more\", \"most\", \"other\", \"some\", \"such\", \"no\", \"nor\", \"not\", \"only\", \"own\", \"same\", \"so\", \"than\", \"too\", \"very\",\"s\", \"t\", \"can\", \"will\", \"just\", \"don\", \"should\", \"now\", \"d\", \"ll\", \"m\", \"o\", \"re\", \"ve\", \"y\", \"ain\", \"aren\", \"couldn\", \"didn\",\"doesn\", \"hadn\", \"hasn\", \"haven\", \"isn\", \"ma\", \"mightn\", \"mustn\", \"needn\", \"shan\", \"shouldn\", \"wasn\", \"weren\", \"won\", \"wouldn\"\n",
    "}"
   ]
  },
  {
   "cell_type": "code",
   "execution_count": 3,
   "metadata": {},
   "outputs": [],
   "source": [
    "def clean_text(text):\n",
    "\n",
    "    # This effectively removes all special characters\n",
    "    text = p.clean(text)\n",
    "    text = re.sub(r'[^\\w\\s]', '', text)\n",
    "    text = text.lower()\n",
    "    words = text.split()\n",
    "\n",
    "    # remove leading and trailing white spaces with strip()\n",
    "    # remove custom stopwords from text\n",
    "    words = [word.strip() for word in words if word.strip() not in custom_stopwords]\n",
    "    text = ' '.join(words)\n",
    "\n",
    "    # Replace multiple consecutive white spaces with a single space\n",
    "    text = re.sub(r'\\s+', ' ', text)\n",
    "\n",
    "    return text"
   ]
  },
  {
   "cell_type": "code",
   "execution_count": 44,
   "metadata": {},
   "outputs": [],
   "source": [
    "def preprocess_data(df):\n",
    "\n",
    "    # Check for missing values\n",
    "    missing_values = df.isna().sum()\n",
    "    print(f'Missing Values:\\n{missing_values}\\n')\n",
    "\n",
    "    # Find all tweets that are less than 3 words and remove them\n",
    "    df['tweet_length'] = [len(text.split()) for text in df.tweet_text]\n",
    "    df = df.loc[df['tweet_length'] >= 3]\n",
    "    df.drop('tweet_length', axis=1, inplace=True)\n",
    "\n",
    "    # Clean the text by removing special characters and converting all text to lower case\n",
    "    df['tweet_text'] = df['tweet_text'].apply(clean_text)\n",
    "\n",
    "    return df"
   ]
  },
  {
   "cell_type": "code",
   "execution_count": 29,
   "metadata": {},
   "outputs": [],
   "source": [
    "def sample(df):\n",
    "\n",
    "    df = df.loc[df['tweet_text'].apply(lambda x: safe_detect(x) == 'en')]\n",
    "    \n",
    "    # Data balancing \n",
    "    # Sample 5,916 observation for each category if stop words are removed\n",
    "    sample_religion = df.loc[df['cyberbullying_type']=='religion'].sample\\\n",
    "        (n=5916, random_state=42)\n",
    "\n",
    "    sample_age = df.loc[df['cyberbullying_type']=='age'].sample\\\n",
    "        (n=5916, random_state=42)\n",
    "\n",
    "    sample_other_cyberbullying = df.loc[df['cyberbullying_type']=='other_cyberbullying'].sample\\\n",
    "        (n=5916, random_state=42)\n",
    "\n",
    "    sample_ethnicity = df.loc[df['cyberbullying_type']=='ethnicity'].sample\\\n",
    "        (n=5916, random_state=42)\n",
    "\n",
    "    sample_gender = df.loc[df['cyberbullying_type']=='gender'].sample\\\n",
    "        (n=5916, random_state=42)\n",
    "    \n",
    "    # Take all not_cyberbullying observations\n",
    "    not_cyberbullying = df.loc[df['cyberbullying_type']=='not_cyberbullying']\n",
    "    \n",
    "    samples_df = pd.concat([sample_religion,sample_age,\n",
    "                            sample_other_cyberbullying,sample_ethnicity,sample_gender,not_cyberbullying])\n",
    "\n",
    "    return samples_df\n"
   ]
  },
  {
   "cell_type": "code",
   "execution_count": 6,
   "metadata": {},
   "outputs": [],
   "source": [
    "def load_pkl_data(path):\n",
    "    with open(path, 'rb') as f:\n",
    "        data = pkl.load(f)\n",
    "    return data"
   ]
  },
  {
   "cell_type": "code",
   "execution_count": 7,
   "metadata": {},
   "outputs": [],
   "source": [
    "def safe_detect(text):\n",
    "    try:\n",
    "        return pycld2.detect(text)[2][0][1]\n",
    "    except Exception:\n",
    "        return 'unknown'"
   ]
  },
  {
   "cell_type": "code",
   "execution_count": 8,
   "metadata": {},
   "outputs": [],
   "source": [
    "def parameter_optimization(X_train, y_train):\n",
    "    param_dist = {'C': [0.1, 1, 10, 100],\n",
    "              'kernel': ['linear', 'rbf', 'poly']}\n",
    "    random_search = RandomizedSearchCV(svm.SVC(), param_distributions=param_dist, n_iter=10, cv=5, scoring='accuracy')\n",
    "    random_search.fit(X_train, y_train)\n",
    "    return random_search.best_params_"
   ]
  },
  {
   "cell_type": "code",
   "execution_count": 40,
   "metadata": {},
   "outputs": [],
   "source": [
    "def confusion_matrix(y_test, y_pred, labels):\n",
    "\n",
    "    cm = metrics.confusion_matrix(y_test, y_pred, labels=labels)\n",
    "    plt.figure(figsize=(10, 8))\n",
    "    plt.imshow(cm, interpolation='nearest', cmap=plt.cm.Blues)\n",
    "    plt.title('Confusion Matrix')\n",
    "    plt.colorbar()\n",
    "    tick_marks = range(len(labels))\n",
    "    plt.xticks(tick_marks, labels, rotation=45)\n",
    "    plt.yticks(tick_marks, labels)\n",
    "    plt.xlabel('Predicted Label')\n",
    "    plt.ylabel('True Label')\n",
    "\n",
    "    for i in range(len(labels)):\n",
    "        for j in range(len(labels)):\n",
    "            plt.text(j, i, str(cm[i, j]), horizontalalignment=\"center\",\n",
    "                     color=\"white\" if cm[i, j] > cm.max() / 2 else \"black\")\n",
    "\n",
    "    plt.show()\n"
   ]
  },
  {
   "cell_type": "code",
   "execution_count": 45,
   "metadata": {},
   "outputs": [
    {
     "name": "stdout",
     "output_type": "stream",
     "text": [
      "Check raw cyberbullying tweet data:                                           tweet_text cyberbullying_type\n",
      "0  In other words #katandandre, your food was cra...  not_cyberbullying\n",
      "1  Why is #aussietv so white? #MKR #theblock #ImA...  not_cyberbullying\n",
      "2  @XochitlSuckkks a classy whore? Or more red ve...  not_cyberbullying\n",
      "3  @Jason_Gio meh. :P  thanks for the heads up, b...  not_cyberbullying\n",
      "4  @RudhoeEnglish This is an ISIS account pretend...  not_cyberbullying\n",
      "\n",
      "Missing Values:\n",
      "tweet_text            0\n",
      "cyberbullying_type    0\n",
      "dtype: int64\n",
      "\n",
      "Check cleaned cyberbullying tweet data:                                           tweet_text cyberbullying_type\n",
      "0                            words food crapilicious  not_cyberbullying\n",
      "1                                              white  not_cyberbullying\n",
      "2                   classy whore red velvet cupcakes  not_cyberbullying\n",
      "3  meh thanks heads concerned another angry dude ...  not_cyberbullying\n",
      "4  isis account pretending kurdish account like i...  not_cyberbullying\n",
      "\n",
      "Y value: not_cyberbullying, Count: 5916\n",
      "Y value: age, Count: 5916\n",
      "Y value: other_cyberbullying, Count: 5916\n",
      "Y value: gender, Count: 5916\n",
      "Y value: ethnicity, Count: 5916\n",
      "Y value: religion, Count: 5916\n",
      "\n",
      "\n",
      "Training Complete\n",
      "Accuracy:  0.8030985915492957\n"
     ]
    },
    {
     "data": {
      "image/png": "[encoded data removed]",
      "text/plain": [
       "<Figure size 720x576 with 2 Axes>"
      ]
     },
     "metadata": {
      "needs_background": "light"
     },
     "output_type": "display_data"
    }
   ],
   "source": [
    "def main():\n",
    "\n",
    "    df = pd.read_csv(\"cyberbullying_tweets.csv\")\n",
    "    # Check raw cyberbullying tweet data\n",
    "    print(f'Check raw cyberbullying tweet data: {df.head(5)}\\n')\n",
    "\n",
    "    df = preprocess_data(df)\n",
    "    # Check cleaned cyberbullying tweet data\n",
    "    print(f'Check cleaned cyberbullying tweet data: {df.head(5)}\\n')\n",
    "    \n",
    "    # Balance data categories\n",
    "    df = sample(df)\n",
    "    \n",
    "    # Check Unique y values\n",
    "    y_values = df['cyberbullying_type'].value_counts()\n",
    "    \n",
    "    for category, count in y_values.items():\n",
    "        print(f'Y value: {category}, Count: {count}')\n",
    "    \n",
    "    print('\\n')\n",
    "    # X is the features (the input data)\n",
    "    X = df['tweet_text']\n",
    "\n",
    "    # y is the targets (output or label)\n",
    "    y = df['cyberbullying_type']\n",
    "\n",
    "    # Create features based frequency of individual words in a given\n",
    "    # observation\n",
    "    vectorized_features = CountVectorizer()\n",
    "\n",
    "    X = vectorized_features.fit_transform(X)\n",
    "\n",
    "    X_train, X_test, y_train, y_test = train_test_split(X,\n",
    "                                                        y, test_size=0.2,\n",
    "                                                        random_state=42)\n",
    "\n",
    "    #Perform parameter optimization (Can only be done with powerful hardware)\n",
    "    #best_parameters = parameter_optimization(X_train, y_train)\n",
    "    #print(f'Best parameters: {best_parameters}')\n",
    "    #SVM = svm.SVC(**best_parameters)\n",
    "    \n",
    "    # 80.3% best with radial kernel\n",
    "    SVM = svm.SVC(kernel='rbf', C=1.0, gamma='scale')\n",
    "\n",
    "    SVM.fit(X_train, y_train)\n",
    "    y_pred = SVM.predict(X_test)\n",
    "\n",
    "    print(\"Training Complete\")\n",
    "    print(f'Accuracy: ', metrics.accuracy_score(y_test, y_pred))\n",
    "\n",
    "    # Print confusion matrix\n",
    "    confusion_matrix(y_test, y_pred, labels=df['cyberbullying_type'].unique())\n",
    "    \n",
    "# Press the green button in the gutter to run the script.\n",
    "if __name__ == '__main__':\n",
    "    main()"
   ]
  },
  {
   "cell_type": "code",
   "execution_count": null,
   "metadata": {},
   "outputs": [],
   "source": []
  }
 ],
 "metadata": {
  "kernelspec": {
   "display_name": "Python 3",
   "language": "python",
   "name": "python3"
  },
  "language_info": {
   "codemirror_mode": {
    "name": "ipython",
    "version": 3
   },
   "file_extension": ".py",
   "mimetype": "text/x-python",
   "name": "python",
   "nbconvert_exporter": "python",
   "pygments_lexer": "ipython3",
   "version": "3.8.5"
  }
 },
 "nbformat": 4,
 "nbformat_minor": 1
}
