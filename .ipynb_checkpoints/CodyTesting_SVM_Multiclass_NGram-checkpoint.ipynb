{
 "cells": [
  {
   "cell_type": "code",
   "execution_count": 32,
   "metadata": {},
   "outputs": [],
   "source": [
    "import pandas as pd\n",
    "import numpy as np\n",
    "import re\n",
    "import preprocessor as p\n",
    "import pycld2\n",
    "from sklearn.model_selection import RandomizedSearchCV\n",
    "from sklearn.feature_extraction.text import CountVectorizer\n",
    "from sklearn.model_selection import train_test_split\n",
    "from sklearn import svm\n",
    "from sklearn import metrics\n",
    "import matplotlib.pyplot as plt\n",
    "pd.options.mode.chained_assignment = None"
   ]
  },
  {
   "cell_type": "code",
   "execution_count": 2,
   "metadata": {},
   "outputs": [],
   "source": [
    "# Custom stop word set that does not include any pronouns and any negating words (e.g. don't, wouldn't)\n",
    "custom_stopwords = {\n",
    "    \"am\", \"is\", \"are\", \"was\", \"were\", \"have\", \"has\", \"had\", \"having\",\n",
    "    \"do\", \"does\", \"did\", \"doing\", \"a\", \"an\", \"the\", \"and\", \"but\",\n",
    "    \"if\", \"or\", \"because\", \"as\", \"until\", \"while\", \"of\", \"at\", \"by\",\n",
    "    \"for\", \"with\", \"about\", \"against\", \"between\", \"into\", \"through\",\n",
    "    \"before\", \"after\", \"above\", \"below\", \"to\", \"from\", \"in\", \"out\",\n",
    "    \"on\", \"over\", \"under\", \"again\", \"then\", \"once\", \"when\", \"where\",\n",
    "    \"why\", \"how\", \"all\", \"any\", \"both\", \"more\", \"most\", \"other\",\n",
    "    \"some\", \"such\", \"no\", \"not\", \"only\", \"own\", \"so\", \"than\", \"too\", \"very\"\n",
    "}"
   ]
  },
  {
   "cell_type": "code",
   "execution_count": 30,
   "metadata": {},
   "outputs": [],
   "source": [
    "def confusion_matrix(y_test, y_pred, labels):\n",
    "\n",
    "    cm = metrics.confusion_matrix(y_test, y_pred, labels=labels)\n",
    "    plt.figure(figsize=(10, 8))\n",
    "    plt.imshow(cm, interpolation='nearest', cmap=plt.cm.Blues)\n",
    "    plt.title('Confusion Matrix')\n",
    "    plt.colorbar()\n",
    "    tick_marks = range(len(labels))\n",
    "    plt.xticks(tick_marks, labels, rotation=45)\n",
    "    plt.yticks(tick_marks, labels)\n",
    "    plt.xlabel('Predicted Label')\n",
    "    plt.ylabel('True Label')\n",
    "\n",
    "    for i in range(len(labels)):\n",
    "        for j in range(len(labels)):\n",
    "            plt.text(j, i, str(cm[i, j]), horizontalalignment=\"center\",\n",
    "                     color=\"white\" if cm[i, j] > cm.max() / 2 else \"black\")\n",
    "\n",
    "    plt.show()\n"
   ]
  },
  {
   "cell_type": "code",
   "execution_count": 23,
   "metadata": {},
   "outputs": [],
   "source": [
    "def clean_text(text):\n",
    "\n",
    "    # This effectively removes all special characters\n",
    "    text = p.clean(text)\n",
    "    text = re.sub(r'[^\\w\\s]', '', text)\n",
    "    text = text.lower()\n",
    "#     words = text.split()\n",
    "\n",
    "#     # remove leading and trailing white spaces with strip()\n",
    "#     # remove custom stopwords from text\n",
    "#     words = [word.strip() for word in words if word.strip() not in custom_stopwords]\n",
    "#     text = ' '.join(words)\n",
    "\n",
    "    # Replace multiple consecutive white spaces with a single space\n",
    "    text = re.sub(r'\\s+', ' ', text)\n",
    "\n",
    "    return text"
   ]
  },
  {
   "cell_type": "code",
   "execution_count": 34,
   "metadata": {},
   "outputs": [],
   "source": [
    "def preprocess_data(df):\n",
    "\n",
    "    # Check for missing values\n",
    "    missing_values = df.isna().sum()\n",
    "    print(f'Missing Values:\\n{missing_values}\\n')\n",
    "\n",
    "    # Find all tweets that are less than 3 words and remove them\n",
    "    df['tweet_length'] = [len(text.split()) for text in df.tweet_text]\n",
    "    df = df.loc[df['tweet_length'] >= 3]\n",
    "    df.drop('tweet_length', axis=1, inplace=True)\n",
    "\n",
    "    # Clean the text by removing special characters and converting all text to lower case\n",
    "    df['tweet_text'] = df['tweet_text'].apply(clean_text)\n",
    "\n",
    "    return df"
   ]
  },
  {
   "cell_type": "code",
   "execution_count": 26,
   "metadata": {},
   "outputs": [],
   "source": [
    "def sample(df):\n",
    "\n",
    "    df = df.loc[df['tweet_text'].apply(lambda x: safe_detect(x) == 'en')]\n",
    "    \n",
    "    # Data balancing \n",
    "    # Sample 6,305 observation for each category if stop words are removed\n",
    "    # Sample 6,644 observation for each category if stop words are not removed\n",
    "    sample_religion = df.loc[df['cyberbullying_type']=='religion'].sample\\\n",
    "        (n=6644, random_state=42)\n",
    "\n",
    "    sample_age = df.loc[df['cyberbullying_type']=='age'].sample\\\n",
    "        (n=6644, random_state=42)\n",
    "\n",
    "    sample_other_cyberbullying = df.loc[df['cyberbullying_type']=='other_cyberbullying'].sample\\\n",
    "        (n=6644, random_state=42)\n",
    "\n",
    "    sample_ethnicity = df.loc[df['cyberbullying_type']=='ethnicity'].sample\\\n",
    "        (n=6644, random_state=42)\n",
    "\n",
    "    sample_gender = df.loc[df['cyberbullying_type']=='gender'].sample\\\n",
    "        (n=6644, random_state=42)\n",
    "    \n",
    "    # Take all not_cyberbullying observations\n",
    "    not_cyberbullying = df.loc[df['cyberbullying_type']=='not_cyberbullying']\n",
    "    \n",
    "    samples_df = pd.concat([sample_religion,sample_age,\n",
    "                            sample_other_cyberbullying,sample_ethnicity,sample_gender,not_cyberbullying])\n",
    "\n",
    "    return samples_df"
   ]
  },
  {
   "cell_type": "code",
   "execution_count": 6,
   "metadata": {},
   "outputs": [],
   "source": [
    "def safe_detect(text):\n",
    "    try:\n",
    "        return pycld2.detect(text)[2][0][1]\n",
    "    except Exception:\n",
    "        return 'unknown'"
   ]
  },
  {
   "cell_type": "code",
   "execution_count": 13,
   "metadata": {},
   "outputs": [],
   "source": [
    "def parameter_optimization(X_train, y_train):\n",
    "    param_dist = {'C': [0.1, 1, 10],\n",
    "              'kernel': ['linear', 'rbf']}\n",
    "    random_search = RandomizedSearchCV(svm.SVC(),\n",
    "        param_distributions=param_dist, n_iter=10, cv=5, scoring='accuracy', n_jobs=-1)\n",
    "    random_search.fit(X_train, y_train)\n",
    "    return random_search.best_params_"
   ]
  },
  {
   "cell_type": "code",
   "execution_count": 35,
   "metadata": {},
   "outputs": [
    {
     "name": "stdout",
     "output_type": "stream",
     "text": [
      "Check raw cyberbullying tweet data:                                           tweet_text cyberbullying_type\n",
      "0  In other words #katandandre, your food was cra...  not_cyberbullying\n",
      "1  Why is #aussietv so white? #MKR #theblock #ImA...  not_cyberbullying\n",
      "2  @XochitlSuckkks a classy whore? Or more red ve...  not_cyberbullying\n",
      "3  @Jason_Gio meh. :P  thanks for the heads up, b...  not_cyberbullying\n",
      "4  @RudhoeEnglish This is an ISIS account pretend...  not_cyberbullying\n",
      "\n",
      "Missing Values:\n",
      "tweet_text            0\n",
      "cyberbullying_type    0\n",
      "dtype: int64\n",
      "\n",
      "Check cleaned cyberbullying tweet data:                                           tweet_text cyberbullying_type\n",
      "0          in other words your food was crapilicious  not_cyberbullying\n",
      "1                                    why is so white  not_cyberbullying\n",
      "2         a classy whore or more red velvet cupcakes  not_cyberbullying\n",
      "3  meh thanks for the heads up but not too concer...  not_cyberbullying\n",
      "4  this is an isis account pretending to be a kur...  not_cyberbullying\n",
      "\n",
      "Y value: not_cyberbullying, Count: 6644\n",
      "Y value: other_cyberbullying, Count: 6644\n",
      "Y value: ethnicity, Count: 6644\n",
      "Y value: gender, Count: 6644\n",
      "Y value: religion, Count: 6644\n",
      "Y value: age, Count: 6644\n",
      "Training Complete\n",
      "Accuracy:  0.8015803336259877\n"
     ]
    },
    {
     "data": {
      "image/png": "[encoded data removed]",
      "text/plain": [
       "<Figure size 720x576 with 2 Axes>"
      ]
     },
     "metadata": {
      "needs_background": "light"
     },
     "output_type": "display_data"
    }
   ],
   "source": [
    "def main():\n",
    "\n",
    "    df = pd.read_csv(\"cyberbullying_tweets.csv\")\n",
    "    # Check raw cyberbullying tweet data\n",
    "    print(f'Check raw cyberbullying tweet data: {df.head(5)}\\n')\n",
    "\n",
    "    df = preprocess_data(df)\n",
    "    # Check cleaned cyberbullying tweet data\n",
    "    print(f'Check cleaned cyberbullying tweet data: {df.head(5)}\\n')\n",
    "\n",
    "    # Balance data categories\n",
    "    df = sample(df)\n",
    "    \n",
    "    # Check Unique y values\n",
    "    y_values = df['cyberbullying_type'].value_counts()\n",
    "    \n",
    "    for category, count in y_values.items():\n",
    "        print(f'Y value: {category}, Count: {count}')\n",
    "        \n",
    "    # X is the features (the input data)\n",
    "    X = df['tweet_text']\n",
    "\n",
    "    # y is the targets (output or label)\n",
    "    y = df['cyberbullying_type']\n",
    "\n",
    "    # Create features based frequency of individual words in a given\n",
    "    # observation\n",
    "    ngram_vectorizer = CountVectorizer(ngram_range=(1,2))\n",
    "\n",
    "    X = ngram_vectorizer.fit_transform(X)\n",
    "\n",
    "    X_train, X_test, y_train, y_test = train_test_split(X,\n",
    "                                                        y, test_size=0.2,\n",
    "                                                        random_state=42)\n",
    "\n",
    "    # Perform parameter optimization\n",
    "#     best_parameters = parameter_optimization(X_train, y_train)\n",
    "#     print(f'Best parameters: {best_parameters}')\n",
    "#     SVM = svm.SVC(**best_parameters)\n",
    "    \n",
    "    # Best is 80.1% with radial kernel, C=1, gamma='scale'\n",
    "    SVM = svm.SVC(kernel='rbf', C=1.0, gamma='scale')\n",
    "\n",
    "    SVM.fit(X_train, y_train)\n",
    "    y_pred = SVM.predict(X_test)\n",
    "\n",
    "    print(\"Training Complete\")\n",
    "    print(f'Accuracy: ', metrics.accuracy_score(y_test, y_pred))\n",
    "\n",
    "    # Print confusion matrix\n",
    "    confusion_matrix(y_test, y_pred, labels=df['cyberbullying_type'].unique())\n",
    "\n",
    "# Press the green button in the gutter to run the script.\n",
    "if __name__ == '__main__':\n",
    "    main()"
   ]
  },
  {
   "cell_type": "code",
   "execution_count": null,
   "metadata": {},
   "outputs": [],
   "source": []
  }
 ],
 "metadata": {
  "kernelspec": {
   "display_name": "Python 3",
   "language": "python",
   "name": "python3"
  },
  "language_info": {
   "codemirror_mode": {
    "name": "ipython",
    "version": 3
   },
   "file_extension": ".py",
   "mimetype": "text/x-python",
   "name": "python",
   "nbconvert_exporter": "python",
   "pygments_lexer": "ipython3",
   "version": "3.8.5"
  }
 },
 "nbformat": 4,
 "nbformat_minor": 1
}
