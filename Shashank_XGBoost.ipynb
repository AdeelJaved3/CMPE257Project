{
  "cells": [
    {
      "cell_type": "code",
      "source": [
        "import pandas as pd\n",
        "import numpy as np\n",
        "import xgboost as xgb\n",
        "import matplotlib.pyplot as plt\n",
        "import random\n",
        "import ssl\n",
        "import nltk\n",
        "from sklearn.model_selection import train_test_split\n",
        "from sklearn.linear_model import SGDClassifier\n",
        "from sklearn.pipeline import Pipeline\n",
        "from sklearn.feature_extraction.text import CountVectorizer, TfidfTransformer, TfidfVectorizer\n",
        "from sklearn.metrics import accuracy_score, classification_report\n",
        "from nltk.corpus import stopwords\n",
        "from nltk.stem import WordNetLemmatizer\n",
        "from imblearn.over_sampling import SMOTE\n",
        "from imblearn.under_sampling import RandomUnderSampler\n",
        "from sklearn.neighbors import KNeighborsClassifier\n",
        "from sklearn.decomposition import TruncatedSVD\n",
        "from textblob import TextBlob\n",
        "import re\n"
      ],
      "outputs": [],
      "execution_count": 30,
      "metadata": {
        "noteable": {},
        "ExecuteTime": {
          "start_time": "2023-11-27T22:29:02.685619+00:00",
          "end_time": "2023-11-27T22:29:02.841470+00:00"
        }
      },
      "id": "be926bce-8920-4f5e-856c-6731ee2a9ccb"
    },
    {
      "cell_type": "code",
      "source": [
        "df = pd.read_csv(\"cyberbullying_tweets.csv\")"
      ],
      "outputs": [],
      "execution_count": 31,
      "metadata": {
        "noteable": {},
        "ExecuteTime": {
          "start_time": "2023-11-27T22:29:05.998977+00:00",
          "end_time": "2023-11-27T22:29:06.229112+00:00"
        }
      },
      "id": "d4ae1eaf-4c60-4fbd-882f-f36b9354991e"
    },
    {
      "cell_type": "code",
      "source": [
        "def clean_tweet_text(text):\n",
        "    text = re.sub(r'http\\S+|www\\S+|https\\S+', '', text, flags=re.MULTILINE)  # Remove URLs\n",
        "    text = re.sub(r'@\\w+', '', text)  # Remove mentions\n",
        "    text = re.sub(r'#', '', text)  # Remove hashtag symbol\n",
        "    text = re.sub(r'[^a-zA-Z\\s]', '', text)  # Remove special characters and numbers\n",
        "    text = text.lower()  # Convert to lowercase\n",
        "    text = re.sub(r'\\s+', ' ', text).strip()  # Remove extra whitespaces\n",
        "    text = ' '.join([word for word in text.split() if word not in stopwords.words('english')]) # Remove stopwords\n",
        "    lemmatizer = WordNetLemmatizer()\n",
        "    text = ' '.join([lemmatizer.lemmatize(word) for word in text.split()]) # Lemmatization\n",
        "    return text\n",
        "\n",
        "df['cleaned_tweet_text'] = df['tweet_text'].apply(clean_tweet_text)\n",
        "df[['tweet_text', 'cleaned_tweet_text']].head()\n",
        "df.drop(\"tweet_text\", axis=1, inplace=True)"
      ],
      "outputs": [],
      "execution_count": 32,
      "metadata": {
        "noteable": {},
        "ExecuteTime": {
          "start_time": "2023-11-27T22:29:07.498174+00:00",
          "end_time": "2023-11-27T22:30:15.208766+00:00"
        }
      },
      "id": "d97b94a2-4e7c-426f-b452-8279277f58ca"
    },
    {
      "cell_type": "code",
      "source": [
        "le = LabelEncoder()\n",
        "df['cyberbullying_type_encoded'] = le.fit_transform(df['cyberbullying_type'])\n",
        "class_mapping = dict(zip(le.classes_, le.transform(le.classes_)))\n",
        "# Print the mapping\n",
        "print(class_mapping)"
      ],
      "outputs": [
        {
          "output_type": "stream",
          "name": "stdout",
          "text": [
            "{'age': 0, 'ethnicity': 1, 'gender': 2, 'not_cyberbullying': 3, 'other_cyberbullying': 4, 'religion': 5}\n"
          ]
        }
      ],
      "execution_count": 33,
      "metadata": {
        "noteable": {},
        "ExecuteTime": {
          "start_time": "2023-11-27T22:30:15.216550+00:00",
          "end_time": "2023-11-27T22:30:15.379523+00:00"
        }
      },
      "id": "4e97b748-fb87-4f70-8f8b-6cac85e94ab0"
    },
    {
      "cell_type": "code",
      "source": [
        "vectorizer = TfidfVectorizer(max_features=5000, ngram_range=(1, 2), min_df=2)\n",
        "X = vectorizer.fit_transform(df['cleaned_tweet_text'])\n",
        "Y = df['cyberbullying_type_encoded']"
      ],
      "outputs": [],
      "execution_count": 34,
      "metadata": {
        "noteable": {},
        "ExecuteTime": {
          "start_time": "2023-11-27T22:30:15.384704+00:00",
          "end_time": "2023-11-27T22:30:17.136018+00:00"
        }
      },
      "id": "6c79770d-62aa-4bcf-9ae1-6d5037768d69"
    },
    {
      "cell_type": "code",
      "source": [
        "X_train, X_test, y_train, y_test = train_test_split(X, Y, test_size=0.2, random_state=42)"
      ],
      "outputs": [],
      "execution_count": 35,
      "metadata": {
        "noteable": {},
        "ExecuteTime": {
          "start_time": "2023-11-27T22:30:17.140948+00:00",
          "end_time": "2023-11-27T22:30:17.301090+00:00"
        }
      },
      "id": "a4e21a28-eb5b-4f1f-a32f-d3068045fb26"
    },
    {
      "cell_type": "code",
      "source": [
        "dtrain = xgb.DMatrix(X_train, label=y_train)\n",
        "params = {\n",
        "    'objective': 'multi:softmax',\n",
        "    'num_class': 6,\n",
        "    'min_child_weight' : 1,\n",
        "    'max_depth': 10,\n",
        "    'eta': 0.3,\n",
        "    'subsample': 1,\n",
        "    'colsample_bytree': 0.7\n",
        "}\n",
        "epochs = 10\n",
        "bst = xgb.train(params, dtrain, epochs)"
      ],
      "outputs": [],
      "execution_count": 36,
      "metadata": {
        "noteable": {},
        "ExecuteTime": {
          "start_time": "2023-11-27T22:30:17.307353+00:00",
          "end_time": "2023-11-27T22:30:34.909313+00:00"
        }
      },
      "id": "503a729c-9ec8-441d-9936-19c25020cf19"
    },
    {
      "cell_type": "code",
      "source": [
        "dtest = xgb.DMatrix(X_test, label=y_test)\n",
        "predictions = bst.predict(dtest)"
      ],
      "outputs": [],
      "execution_count": 37,
      "metadata": {
        "noteable": {},
        "ExecuteTime": {
          "start_time": "2023-11-27T22:30:34.915445+00:00",
          "end_time": "2023-11-27T22:30:35.101557+00:00"
        }
      },
      "id": "a8c307a8-3a8a-48c9-bb5d-7dce472c2070"
    },
    {
      "cell_type": "code",
      "source": [
        "accuracy = accuracy_score(y_test, predictions)\n",
        "print(\"Accuracy: %.2f%%\" % (accuracy * 100.0))\n"
      ],
      "outputs": [
        {
          "output_type": "stream",
          "name": "stdout",
          "text": [
            "Accuracy: 82.22%\n"
          ]
        }
      ],
      "execution_count": 38,
      "metadata": {
        "noteable": {},
        "ExecuteTime": {
          "start_time": "2023-11-27T22:30:35.108879+00:00",
          "end_time": "2023-11-27T22:30:35.267587+00:00"
        }
      },
      "id": "adbafcab-533d-42c9-9375-dac72ef86800"
    },
    {
      "cell_type": "code",
      "source": [
        "print(classification_report(y_test, predictions, target_names=class_mapping))"
      ],
      "outputs": [
        {
          "output_type": "stream",
          "name": "stdout",
          "text": [
            "                     precision    recall  f1-score   support\n",
            "\n",
            "                age       0.99      0.97      0.98      1603\n",
            "          ethnicity       0.99      0.98      0.98      1603\n",
            "             gender       0.91      0.80      0.85      1531\n",
            "  not_cyberbullying       0.74      0.36      0.48      1624\n",
            "other_cyberbullying       0.53      0.90      0.67      1612\n",
            "           religion       0.97      0.93      0.95      1566\n",
            "\n",
            "           accuracy                           0.82      9539\n",
            "          macro avg       0.85      0.82      0.82      9539\n",
            "       weighted avg       0.85      0.82      0.82      9539\n",
            "\n"
          ]
        }
      ],
      "execution_count": null,
      "metadata": {
        "noteable": {},
        "ExecuteTime": {
          "start_time": "2023-11-27T22:30:35.274462+00:00",
          "end_time": "2023-11-27T22:30:35.444248+00:00"
        }
      },
      "id": "fa6cef3f-1cf2-4f6e-9271-4b2ab7ffad4d"
    }
  ],
  "metadata": {
    "kernelspec": {
      "name": "python3",
      "display_name": "Python 3.9",
      "language": "python",
      "language_version": "3.9",
      "identifier": "legacy"
    },
    "language_info": {
      "codemirror_mode": {
        "name": "ipython",
        "version": 3
      },
      "file_extension": ".py",
      "mimetype": "text/x-python",
      "name": "python",
      "nbconvert_exporter": "python",
      "pygments_lexer": "ipython3",
      "version": "3.11.5"
    },
    "noteable": {
      "last_delta_id": "10e1f2e1-b3d5-4928-a8e8-a323688923fc"
    },
    "selected_hardware_size": "small",
    "kernel_info": {
      "name": "python3"
    },
    "nteract": {
      "version": "noteable@2.9.0"
    }
  },
  "nbformat": 4,
  "nbformat_minor": 5
}