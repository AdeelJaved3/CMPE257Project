{
 "cells": [
  {
   "cell_type": "code",
   "execution_count": 1,
   "id": "8e7045a2-8312-41ab-abee-2ecc1a4cd953",
   "metadata": {},
   "outputs": [],
   "source": [
    "import pandas as pd\n",
    "import numpy as np\n",
    "import seaborn as sns"
   ]
  },
  {
   "cell_type": "code",
   "execution_count": 2,
   "id": "1b54fc14-9e44-4613-aebd-0b789fa38672",
   "metadata": {},
   "outputs": [
    {
     "name": "stdout",
     "output_type": "stream",
     "text": [
      "0        In other words #katandandre, your food was cra...\n",
      "1        Why is #aussietv so white? #MKR #theblock #ImA...\n",
      "2             a classy whore? Or more red velvet cupcakes?\n",
      "3        meh. :P  thanks for the heads up, but not too ...\n",
      "4        This is an ISIS account pretending to be a Kur...\n",
      "                               ...                        \n",
      "47687    Black ppl aren't expected to do anything, depe...\n",
      "47688    Turner did not withhold his disappointment. Tu...\n",
      "47689    I swear to God. This dumb nigger bitch. I have...\n",
      "47690    Yea fuck you RT: IF YOURE A NIGGER FUCKING UNF...\n",
      "47691    Bro. U gotta chill RT: Dog FUCK KP that dumb n...\n",
      "Name: tweet_text, Length: 47692, dtype: object\n"
     ]
    }
   ],
   "source": [
    "df = pd.read_csv(\"cyberbullying_tweets.csv\")\n",
    "df.dropna(inplace=True)\n",
    "df['tweet_text'] = df['tweet_text'].str.replace(r'\\s*@\\w+\\s*', '', regex=True)\n",
    "df['tweet_text'] = df['tweet_text'].str.replace(r'https?://\\S+|http?://\\S+', '', regex=True)\n",
    "print(df['tweet_text'])"
   ]
  },
  {
   "cell_type": "code",
   "execution_count": null,
   "id": "10837fe9-d158-431d-885f-89ce44c8074b",
   "metadata": {},
   "outputs": [],
   "source": []
  }
 ],
 "metadata": {
  "kernelspec": {
   "display_name": "Python 3 (ipykernel)",
   "language": "python",
   "name": "python3"
  },
  "language_info": {
   "codemirror_mode": {
    "name": "ipython",
    "version": 3
   },
   "file_extension": ".py",
   "mimetype": "text/x-python",
   "name": "python",
   "nbconvert_exporter": "python",
   "pygments_lexer": "ipython3",
   "version": "3.11.5"
  }
 },
 "nbformat": 4,
 "nbformat_minor": 5
}
