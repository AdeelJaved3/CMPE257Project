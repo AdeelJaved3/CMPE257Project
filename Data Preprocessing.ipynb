{
 "cells": [
  {
   "cell_type": "code",
   "execution_count": 1,
   "id": "8e7045a2-8312-41ab-abee-2ecc1a4cd953",
   "metadata": {},
   "outputs": [],
   "source": [
    "import pandas as pd\n",
    "import numpy as np\n",
    "from sklearn import preprocessing\n",
    "from sklearn.model_selection import train_test_split\n",
    "from sklearn.neighbors import KNeighborsClassifier\n",
    "import matplotlib.pyplot as plt\n",
    "from nltk.tokenize import TweetTokenizer\n",
    "from nltk.tokenize import TweetTokenizer"
   ]
  },
  {
   "cell_type": "code",
   "execution_count": 2,
   "id": "fb97201e-04d9-48a7-bad1-aa7df22888dd",
   "metadata": {},
   "outputs": [],
   "source": [
    "df = pd.read_csv(\"cyberbullying_tweets.csv\")"
   ]
  },
  {
   "cell_type": "code",
   "execution_count": 3,
   "id": "1b54fc14-9e44-4613-aebd-0b789fa38672",
   "metadata": {},
   "outputs": [
    {
     "ename": "NameError",
     "evalue": "name 'WordNetLemmatizer' is not defined",
     "output_type": "error",
     "traceback": [
      "\u001b[1;31m---------------------------------------------------------------------------\u001b[0m",
      "\u001b[1;31mNameError\u001b[0m                                 Traceback (most recent call last)",
      "Cell \u001b[1;32mIn[3], line 8\u001b[0m\n\u001b[0;32m      6\u001b[0m tweet_tokenizer \u001b[38;5;241m=\u001b[39m TweetTokenizer()\n\u001b[0;32m      7\u001b[0m df[\u001b[38;5;124m'\u001b[39m\u001b[38;5;124mtokenized_tweet\u001b[39m\u001b[38;5;124m'\u001b[39m] \u001b[38;5;241m=\u001b[39m df[\u001b[38;5;124m'\u001b[39m\u001b[38;5;124mtweet_text\u001b[39m\u001b[38;5;124m'\u001b[39m]\u001b[38;5;241m.\u001b[39mapply(\u001b[38;5;28;01mlambda\u001b[39;00m x: tweet_tokenizer\u001b[38;5;241m.\u001b[39mtokenize(x))                      \u001b[38;5;66;03m#tokenized tweets //Time Consuming\u001b[39;00m\n\u001b[1;32m----> 8\u001b[0m lemmatizer \u001b[38;5;241m=\u001b[39m \u001b[43mWordNetLemmatizer\u001b[49m()                                                                \u001b[38;5;66;03m#Lemmatize eg. doing = do,going=go //alternate:stemming\u001b[39;00m\n\u001b[0;32m      9\u001b[0m df[\u001b[38;5;124m'\u001b[39m\u001b[38;5;124mtokenized_tweet\u001b[39m\u001b[38;5;124m'\u001b[39m] \u001b[38;5;241m=\u001b[39m df[\u001b[38;5;124m'\u001b[39m\u001b[38;5;124mtokenized_tweet\u001b[39m\u001b[38;5;124m'\u001b[39m]\u001b[38;5;241m.\u001b[39mapply(\u001b[38;5;28;01mlambda\u001b[39;00m x: [lemmatizer\u001b[38;5;241m.\u001b[39mlemmatize(word, pos\u001b[38;5;241m=\u001b[39m\u001b[38;5;124m'\u001b[39m\u001b[38;5;124mv\u001b[39m\u001b[38;5;124m'\u001b[39m) \u001b[38;5;28;01mfor\u001b[39;00m word \u001b[38;5;129;01min\u001b[39;00m x]) \n",
      "\u001b[1;31mNameError\u001b[0m: name 'WordNetLemmatizer' is not defined"
     ]
    }
   ],
   "source": [
    "#Preprocessing data\n",
    "df.dropna(inplace=True)\n",
    "df['tweet_text'] = df['tweet_text'].str.replace(r'\\s*@\\w+\\s*', '', regex=True)                  #Removing @words\n",
    "df['tweet_text'] = df['tweet_text'].str.replace(r'https?://\\S+|http?://\\S+', '', regex=True)    #Removing URLs\n",
    "df['tweet_text'] = df['tweet_text'].str.lower()                                                 #Lowercasing all words\n",
    "tweet_tokenizer = TweetTokenizer()\n",
    "df['tokenized_tweet'] = df['tweet_text'].apply(lambda x: tweet_tokenizer.tokenize(x))                      #tokenized tweets //Time Consuming\n",
    "lemmatizer = WordNetLemmatizer()                                                                #Lemmatize eg. doing = do,going=go //alternate:stemming\n",
    "df['tokenized_tweet'] = df['tokenized_tweet'].apply(lambda x: [lemmatizer.lemmatize(word, pos='v') for word in x]) \n",
    "\n"
   ]
  },
  {
   "cell_type": "code",
   "execution_count": null,
   "id": "5c23304a-7af1-403d-9949-95e328136475",
   "metadata": {},
   "outputs": [],
   "source": []
  }
 ],
 "metadata": {
  "kernelspec": {
   "display_name": "Python 3 (ipykernel)",
   "language": "python",
   "name": "python3"
  },
  "language_info": {
   "codemirror_mode": {
    "name": "ipython",
    "version": 3
   },
   "file_extension": ".py",
   "mimetype": "text/x-python",
   "name": "python",
   "nbconvert_exporter": "python",
   "pygments_lexer": "ipython3",
   "version": "3.11.5"
  }
 },
 "nbformat": 4,
 "nbformat_minor": 5
}
